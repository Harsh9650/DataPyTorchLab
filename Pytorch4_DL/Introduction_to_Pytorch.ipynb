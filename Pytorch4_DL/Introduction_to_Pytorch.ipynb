{
 "cells": [
  {
   "cell_type": "markdown",
   "id": "e48a0a31-3e18-472e-8afc-255025eeca2e",
   "metadata": {},
   "source": [
    "### This notebook is created while doing the course titled \"PyTorch for Deep Learning Bootcamp\" on Udemy. The course is delivered by Daniel Bourke.\n",
    "\n",
    "**Course is available at: https://www.udemy.com/course/pytorch-for-deep-learning**"
   ]
  },
  {
   "cell_type": "code",
   "execution_count": 1,
   "id": "bf533eda-0d53-45f4-944a-bd9a84879fee",
   "metadata": {},
   "outputs": [],
   "source": [
    "import torch\n",
    "import pandas as pd\n",
    "import numpy as np\n",
    "import matplotlib.pyplot as plt\n",
    "from IPython.display import Image as IPImage, display"
   ]
  },
  {
   "cell_type": "code",
   "execution_count": 2,
   "id": "b7eb314d-f596-4e70-a764-4f3e5773451d",
   "metadata": {},
   "outputs": [
    {
     "name": "stdout",
     "output_type": "stream",
     "text": [
      "2.5.1\n"
     ]
    }
   ],
   "source": [
    "print(torch.__version__)"
   ]
  },
  {
   "cell_type": "markdown",
   "id": "c9ed87bc-acd6-449c-b61a-21983da62a22",
   "metadata": {},
   "source": [
    "# Introduction to Tensors\n",
    "\n",
    "1) Creating a Tensor.\n",
    "   \n",
    "   a) Scalar syntax:- torch.tensor(num)\n",
    "\n",
    "   b) Vector syntax:- torch.tensor([num1, num2])\n",
    "\n",
    "   c) Matrix syntax:- torch.tensor([[num1, num2] , [num1, num2]])\n",
    "\n",
    "   d) 3D-Tensor syntax:- torch.tensor([[[num1, num2, num3] , [num1, num2, num3], [num1, num2, num3]]])"
   ]
  },
  {
   "cell_type": "code",
   "execution_count": 3,
   "id": "66a3b146-2401-4c48-849c-00cc702f0e74",
   "metadata": {},
   "outputs": [
    {
     "data": {
      "text/plain": [
       "tensor(7)"
      ]
     },
     "execution_count": 3,
     "metadata": {},
     "output_type": "execute_result"
    }
   ],
   "source": [
    "scalar_tens = torch.tensor(7)\n",
    "scalar_tens"
   ]
  },
  {
   "cell_type": "code",
   "execution_count": 4,
   "id": "7c4f71a1-fb7a-4243-a211-4e35235e9253",
   "metadata": {},
   "outputs": [
    {
     "data": {
      "text/plain": [
       "0"
      ]
     },
     "execution_count": 4,
     "metadata": {},
     "output_type": "execute_result"
    }
   ],
   "source": [
    "# This is to check the dimension of a tensor.\n",
    "\n",
    "scalar_tens.ndim"
   ]
  },
  {
   "cell_type": "code",
   "execution_count": 5,
   "id": "f9b5121d-efee-4939-af80-62d3b252154f",
   "metadata": {},
   "outputs": [
    {
     "data": {
      "text/plain": [
       "torch.Size([])"
      ]
     },
     "execution_count": 5,
     "metadata": {},
     "output_type": "execute_result"
    }
   ],
   "source": [
    "\"\"\"This is to get the shape of a Tensor. It refers to number of elements in each tensor.\n",
    "    For a scalar tensor, it will be an empty list/tensor.\"\"\"\n",
    "\n",
    "scalar_tens.shape"
   ]
  },
  {
   "cell_type": "code",
   "execution_count": 6,
   "id": "d94c889a-6450-4b71-9f26-cd7157a47886",
   "metadata": {},
   "outputs": [
    {
     "data": {
      "text/plain": [
       "tensor([1, 2, 3])"
      ]
     },
     "execution_count": 6,
     "metadata": {},
     "output_type": "execute_result"
    }
   ],
   "source": [
    "vector__tens = torch.tensor([1, 2, 3])\n",
    "vector__tens"
   ]
  },
  {
   "cell_type": "code",
   "execution_count": 7,
   "id": "54216650-8c0a-4656-b32c-c2e71eda932d",
   "metadata": {},
   "outputs": [
    {
     "data": {
      "text/plain": [
       "1"
      ]
     },
     "execution_count": 7,
     "metadata": {},
     "output_type": "execute_result"
    }
   ],
   "source": [
    "vector__tens.ndim"
   ]
  },
  {
   "cell_type": "code",
   "execution_count": 8,
   "id": "0025b552-3f34-4224-b96f-78ba9bf7ca91",
   "metadata": {},
   "outputs": [
    {
     "data": {
      "text/plain": [
       "torch.Size([3])"
      ]
     },
     "execution_count": 8,
     "metadata": {},
     "output_type": "execute_result"
    }
   ],
   "source": [
    "# As said previously, number of elements in the tensor.\n",
    "vector__tens.shape"
   ]
  },
  {
   "cell_type": "code",
   "execution_count": 9,
   "id": "c02c8687-5e00-4a8c-b89b-317c5393a71c",
   "metadata": {},
   "outputs": [
    {
     "data": {
      "text/plain": [
       "tensor([[1, 2],\n",
       "        [3, 4]])"
      ]
     },
     "execution_count": 9,
     "metadata": {},
     "output_type": "execute_result"
    }
   ],
   "source": [
    "Matrix_tens = torch.tensor([[1, 2],\n",
    "                              [3, 4]])\n",
    "Matrix_tens"
   ]
  },
  {
   "cell_type": "code",
   "execution_count": 10,
   "id": "f7eb3f8e-dc85-4841-a0ae-2e4f071396f2",
   "metadata": {},
   "outputs": [
    {
     "data": {
      "text/plain": [
       "2"
      ]
     },
     "execution_count": 10,
     "metadata": {},
     "output_type": "execute_result"
    }
   ],
   "source": [
    "Matrix_tens.ndim"
   ]
  },
  {
   "cell_type": "code",
   "execution_count": 11,
   "id": "a1623c88-9f19-40ad-874a-4d1485960f7f",
   "metadata": {},
   "outputs": [
    {
     "data": {
      "text/plain": [
       "torch.Size([2, 2])"
      ]
     },
     "execution_count": 11,
     "metadata": {},
     "output_type": "execute_result"
    }
   ],
   "source": [
    "\"\"\"Now, the main tensor/list have two lists, and each list have two elememts.\n",
    "So, the first 2 referes to number of lists and the second 2 refers to the \n",
    "number of elements in that list. \"\"\"\n",
    "\n",
    "Matrix_tens.shape"
   ]
  },
  {
   "cell_type": "code",
   "execution_count": 12,
   "id": "d75c5384-0ffc-44ef-a479-4d7627db7ab4",
   "metadata": {},
   "outputs": [
    {
     "data": {
      "text/plain": [
       "tensor([[[1, 2, 3],\n",
       "         [1, 2, 3],\n",
       "         [1, 2, 3]]])"
      ]
     },
     "execution_count": 12,
     "metadata": {},
     "output_type": "execute_result"
    }
   ],
   "source": [
    "Tensor_3d = torch.tensor([[[1, 2, 3],\n",
    "                          [1, 2, 3], \n",
    "                          [1, 2, 3]]])\n",
    "Tensor_3d"
   ]
  },
  {
   "cell_type": "code",
   "execution_count": 13,
   "id": "0e2c4c53-1588-430c-ba7e-de3e2b7226b1",
   "metadata": {},
   "outputs": [
    {
     "data": {
      "text/plain": [
       "3"
      ]
     },
     "execution_count": 13,
     "metadata": {},
     "output_type": "execute_result"
    }
   ],
   "source": [
    "Tensor_3d.ndim # This is 3 because we have three list foundational lists in our array."
   ]
  },
  {
   "cell_type": "code",
   "execution_count": 14,
   "id": "bc25cc2c-1972-4f0a-805d-270788fe34bd",
   "metadata": {},
   "outputs": [
    {
     "data": {
      "text/plain": [
       "torch.Size([1, 3, 3])"
      ]
     },
     "execution_count": 14,
     "metadata": {},
     "output_type": "execute_result"
    }
   ],
   "source": [
    "\"\"\"It is important to understand, how the shape is [1, 3, 3]. First, we have 3 foundational lists, [First\n",
    "                                                                                                        [Second\n",
    "                                                                                                            Third [a, b, c],\n",
    "                                                                                                                    [a, b, c], \n",
    "                                                                                                                    [a, b, c]\n",
    "                                                                                                                        ]\n",
    "                                                                                                                        ].\n",
    "    Now, if you look closely, the first list have only one element, that is the second list. The second list, have three elements\n",
    "    and the third list have three numbers each. So, shape is 1, 3, 3.\n",
    "\"\"\"\n",
    "\n",
    "Tensor_3d.shape"
   ]
  },
  {
   "cell_type": "code",
   "execution_count": 15,
   "id": "017ff672-2816-421f-89b4-9b051a9dec2d",
   "metadata": {},
   "outputs": [
    {
     "data": {
      "text/plain": [
       "tensor([[[1, 2, 3],\n",
       "         [1, 2, 3],\n",
       "         [1, 2, 3]],\n",
       "\n",
       "        [[1, 2, 3],\n",
       "         [1, 2, 3],\n",
       "         [1, 2, 3]],\n",
       "\n",
       "        [[1, 2, 3],\n",
       "         [1, 2, 3],\n",
       "         [1, 2, 3]]])"
      ]
     },
     "execution_count": 15,
     "metadata": {},
     "output_type": "execute_result"
    }
   ],
   "source": [
    "Tensor_3_3d = torch.tensor([[[1, 2, 3], [1, 2, 3], [1, 2, 3]],\n",
    "                         [[1, 2, 3], [1, 2, 3], [1, 2, 3]],\n",
    "                         [[1, 2, 3], [1, 2, 3], [1, 2, 3]]])\n",
    "Tensor_3_3d"
   ]
  },
  {
   "cell_type": "code",
   "execution_count": 16,
   "id": "109604ee-7445-4780-9107-f1927ac1590e",
   "metadata": {},
   "outputs": [
    {
     "data": {
      "text/plain": [
       "3"
      ]
     },
     "execution_count": 16,
     "metadata": {},
     "output_type": "execute_result"
    }
   ],
   "source": [
    "Tensor_3_3d.ndim"
   ]
  },
  {
   "cell_type": "code",
   "execution_count": 17,
   "id": "34006b01-2b32-4606-8a0a-199f486802a5",
   "metadata": {},
   "outputs": [
    {
     "data": {
      "text/plain": [
       "torch.Size([3, 3, 3])"
      ]
     },
     "execution_count": 17,
     "metadata": {},
     "output_type": "execute_result"
    }
   ],
   "source": [
    "Tensor_3_3d.shape"
   ]
  },
  {
   "cell_type": "code",
   "execution_count": 18,
   "id": "675bc207-4712-4dc7-9298-54022c92a1cf",
   "metadata": {},
   "outputs": [
    {
     "data": {
      "text/plain": [
       "tensor([[[1, 2, 3],\n",
       "         [1, 2, 3],\n",
       "         [1, 2, 3]]])"
      ]
     },
     "execution_count": 18,
     "metadata": {},
     "output_type": "execute_result"
    }
   ],
   "source": [
    "Tensor_3_3d[:1]"
   ]
  },
  {
   "cell_type": "code",
   "execution_count": 19,
   "id": "1aaa4c90-8382-42e3-9d84-685a12178270",
   "metadata": {},
   "outputs": [
    {
     "data": {
      "image/png": "[encoded data removed]",
      "text/plain": [
       "<IPython.core.display.Image object>"
      ]
     },
     "metadata": {},
     "output_type": "display_data"
    }
   ],
   "source": [
    "display(IPImage('images/tensor_dimensions.png'))"
   ]
  },
  {
   "cell_type": "markdown",
   "id": "789cf1f0-0340-4b04-9f93-349dc8199e3c",
   "metadata": {},
   "source": [
    "   "
   ]
  },
  {
   "cell_type": "markdown",
   "id": "a4144191-d621-4edb-a067-695340f9b737",
   "metadata": {},
   "source": [
    "# Note:- Generally scalar and vector tensors are defined using lower case letters, while matrix and tensors are defined using upper case letters."
   ]
  },
  {
   "cell_type": "markdown",
   "id": "819330ee-eacc-4a4a-bce2-70b584824143",
   "metadata": {},
   "source": [
    "   "
   ]
  },
  {
   "cell_type": "markdown",
   "id": "eab99546-98e3-45b3-a5a6-691e7abc811d",
   "metadata": {},
   "source": [
    "# Random Tensors\n",
    "\n",
    "## **Random tensors are very important because the way neural networks learn is that they start with tensors full of random numbers and then adjust those random numbers to better represent the data.**\n",
    "\n",
    "### \"start with random numbers -- look at the data -- update random numbers -- look at the data -- update random numbers\""
   ]
  },
  {
   "cell_type": "markdown",
   "id": "5e4cfe66-074b-4d6d-89b3-bb06d3782c8b",
   "metadata": {},
   "source": [
    "# Creating a random tensor."
   ]
  },
  {
   "cell_type": "code",
   "execution_count": 20,
   "id": "bbc3d927-ef23-4569-9912-42066224e53b",
   "metadata": {},
   "outputs": [
    {
     "data": {
      "text/plain": [
       "tensor([[0.2741, 0.1195, 0.8500, 0.8374],\n",
       "        [0.3687, 0.5691, 0.9170, 0.6557],\n",
       "        [0.0014, 0.8922, 0.1024, 0.9965]])"
      ]
     },
     "execution_count": 20,
     "metadata": {},
     "output_type": "execute_result"
    }
   ],
   "source": [
    "random_tensor1 = torch.rand(3, 4) # The input is like giving the shape of a tensor.\n",
    "random_tensor1"
   ]
  },
  {
   "cell_type": "code",
   "execution_count": 21,
   "id": "dcd88875-fb30-45b4-8bde-2f7c698bc7d2",
   "metadata": {},
   "outputs": [
    {
     "data": {
      "text/plain": [
       "tensor([[[0.7729, 0.0064, 0.3549, 0.3875],\n",
       "         [0.9132, 0.3675, 0.3651, 0.3764],\n",
       "         [0.2941, 0.7735, 0.3934, 0.8655]],\n",
       "\n",
       "        [[0.8759, 0.9355, 0.8712, 0.4812],\n",
       "         [0.7626, 0.1640, 0.5229, 0.0729],\n",
       "         [0.4042, 0.0873, 0.4376, 0.7346]],\n",
       "\n",
       "        [[0.4229, 0.8392, 0.7837, 0.9068],\n",
       "         [0.5888, 0.4594, 0.2624, 0.7363],\n",
       "         [0.8373, 0.1555, 0.3682, 0.8430]]])"
      ]
     },
     "execution_count": 21,
     "metadata": {},
     "output_type": "execute_result"
    }
   ],
   "source": [
    "random_tensor2 = torch.rand(3, 3, 4)\n",
    "random_tensor2"
   ]
  },
  {
   "cell_type": "code",
   "execution_count": 22,
   "id": "dd89de6e-2c4d-4490-906c-ff49b1e08cbe",
   "metadata": {},
   "outputs": [
    {
     "data": {
      "text/plain": [
       "(torch.Size([3, 4]), torch.Size([3, 3, 4]))"
      ]
     },
     "execution_count": 22,
     "metadata": {},
     "output_type": "execute_result"
    }
   ],
   "source": [
    "random_tensor1.shape, random_tensor2.shape"
   ]
  },
  {
   "cell_type": "code",
   "execution_count": 23,
   "id": "9fdc9ee4-fd37-4e51-9aca-92788c2565e1",
   "metadata": {},
   "outputs": [
    {
     "data": {
      "text/plain": [
       "(torch.Size([224, 224, 3]), 3)"
      ]
     },
     "execution_count": 23,
     "metadata": {},
     "output_type": "execute_result"
    }
   ],
   "source": [
    "# Creating a random tensor with similar shape to an image tensor.\n",
    "\n",
    "image_size_tensor = torch.rand(size = (224, 224, 3)) # height, width, colour channel\n",
    "image_size_tensor.shape, image_size_tensor.ndim"
   ]
  },
  {
   "cell_type": "markdown",
   "id": "1fe9dc00-49fb-470b-88ff-e4104633cd9e",
   "metadata": {},
   "source": [
    "# Note:- Some time colour channels are also represented at the start, so size = (3, 224, 224)"
   ]
  },
  {
   "cell_type": "markdown",
   "id": "461f68f4-5639-408b-83a0-310fbc29d8e9",
   "metadata": {},
   "source": [
    "# Creating random tensors of 0 and 1."
   ]
  },
  {
   "cell_type": "code",
   "execution_count": 24,
   "id": "296e02cc-c0e0-4f04-a839-abe24599fdc3",
   "metadata": {},
   "outputs": [
    {
     "data": {
      "text/plain": [
       "tensor([[0., 0., 0., 0.],\n",
       "        [0., 0., 0., 0.],\n",
       "        [0., 0., 0., 0.]])"
      ]
     },
     "execution_count": 24,
     "metadata": {},
     "output_type": "execute_result"
    }
   ],
   "source": [
    "zero_tensor = torch.zeros(size = (3, 4))\n",
    "zero_tensor"
   ]
  },
  {
   "cell_type": "code",
   "execution_count": 25,
   "id": "6a9e756b-3657-4ac6-b4e5-b16ebaff700e",
   "metadata": {},
   "outputs": [
    {
     "data": {
      "text/plain": [
       "tensor([[1., 1., 1., 1.],\n",
       "        [1., 1., 1., 1.],\n",
       "        [1., 1., 1., 1.]])"
      ]
     },
     "execution_count": 25,
     "metadata": {},
     "output_type": "execute_result"
    }
   ],
   "source": [
    "one_tensor = torch.ones(3, 4)\n",
    "one_tensor"
   ]
  },
  {
   "cell_type": "code",
   "execution_count": 26,
   "id": "3461c638-230e-4d36-a6d3-e2378bcbe106",
   "metadata": {},
   "outputs": [
    {
     "data": {
      "text/plain": [
       "(torch.float32, torch.float32)"
      ]
     },
     "execution_count": 26,
     "metadata": {},
     "output_type": "execute_result"
    }
   ],
   "source": [
    "zero_tensor.dtype, one_tensor.dtype"
   ]
  },
  {
   "cell_type": "markdown",
   "id": "195df93d-3161-4d0c-b2ae-11e155720fca",
   "metadata": {},
   "source": [
    "# By default, Pytorch creates all its tensors in Float32, unless specified other dtype."
   ]
  },
  {
   "cell_type": "markdown",
   "id": "a0d5f1c2-7f84-4274-867f-002a0f17c71f",
   "metadata": {},
   "source": [
    " "
   ]
  },
  {
   "cell_type": "markdown",
   "id": "5f03ee7b-b4e4-4651-a170-a873ea364075",
   "metadata": {},
   "source": [
    "# Creating a tensor using arange()."
   ]
  },
  {
   "cell_type": "code",
   "execution_count": 27,
   "id": "902e54ed-f5da-48f0-b4d1-0270da52c944",
   "metadata": {},
   "outputs": [
    {
     "data": {
      "text/plain": [
       "tensor([ 1,  2,  3,  4,  5,  6,  7,  8,  9, 10])"
      ]
     },
     "execution_count": 27,
     "metadata": {},
     "output_type": "execute_result"
    }
   ],
   "source": [
    "one_to_ten = torch.arange(1, 11)\n",
    "one_to_ten"
   ]
  },
  {
   "cell_type": "code",
   "execution_count": 28,
   "id": "6dc356b4-cf6d-43f5-ae86-5f7e40904522",
   "metadata": {},
   "outputs": [
    {
     "data": {
      "text/plain": [
       "tensor([ 1,  4,  7, 10, 13, 16, 19])"
      ]
     },
     "execution_count": 28,
     "metadata": {},
     "output_type": "execute_result"
    }
   ],
   "source": [
    "one_to_twenty = torch.arange(start = 1, end = 21, step = 3)\n",
    "one_to_twenty"
   ]
  },
  {
   "cell_type": "code",
   "execution_count": 29,
   "id": "51a5c67f-4bc4-4711-b549-33641d8b293c",
   "metadata": {},
   "outputs": [
    {
     "data": {
      "text/plain": [
       "(1, torch.Size([10]))"
      ]
     },
     "execution_count": 29,
     "metadata": {},
     "output_type": "execute_result"
    }
   ],
   "source": [
    "one_to_ten.ndim, one_to_ten.shape"
   ]
  },
  {
   "cell_type": "markdown",
   "id": "e1a186ef-1814-4258-adbe-4e5e55564bf4",
   "metadata": {},
   "source": [
    " "
   ]
  },
  {
   "cell_type": "markdown",
   "id": "6af0a1bf-60b9-4379-b78a-363973ce4e7f",
   "metadata": {},
   "source": [
    "# Creating a tensor, with a similar shape to a different tensor."
   ]
  },
  {
   "cell_type": "code",
   "execution_count": 30,
   "id": "c6fc65a0-5b06-4861-aecb-a593db6a6253",
   "metadata": {},
   "outputs": [
    {
     "data": {
      "text/plain": [
       "(tensor([1, 1, 1, 1, 1, 1, 1, 1, 1, 1]),\n",
       " tensor([0, 0, 0, 0, 0, 0, 0, 0, 0, 0]))"
      ]
     },
     "execution_count": 30,
     "metadata": {},
     "output_type": "execute_result"
    }
   ],
   "source": [
    "ten_ones, ten_zeros = torch.ones_like(one_to_ten), torch.zeros_like(one_to_ten)\n",
    "ten_ones, ten_zeros"
   ]
  },
  {
   "cell_type": "markdown",
   "id": "437dd23a-8026-4d2e-a6ea-6e5ac1102a34",
   "metadata": {},
   "source": [
    " "
   ]
  },
  {
   "cell_type": "markdown",
   "id": "57e3c372-a6a2-436d-b7ce-18bfd567dc65",
   "metadata": {},
   "source": [
    "# Data types of Tensors."
   ]
  },
  {
   "cell_type": "code",
   "execution_count": 31,
   "id": "e6e6567a-14b9-4bd1-be07-dce0e92be0c7",
   "metadata": {},
   "outputs": [
    {
     "data": {
      "text/plain": [
       "torch.float32"
      ]
     },
     "execution_count": 31,
     "metadata": {},
     "output_type": "execute_result"
    }
   ],
   "source": [
    "tensor1 = torch.tensor([1.0, 2.0, 3.0], dtype = None)\n",
    "tensor1.dtype # Even when we specified \"None\", default data type of a tensor in pytorch is Float32."
   ]
  },
  {
   "cell_type": "code",
   "execution_count": 32,
   "id": "a8f9024f-75ff-45e9-adc0-3de09f378dd9",
   "metadata": {},
   "outputs": [
    {
     "data": {
      "text/plain": [
       "torch.float16"
      ]
     },
     "execution_count": 32,
     "metadata": {},
     "output_type": "execute_result"
    }
   ],
   "source": [
    "tensor2 = torch.tensor([1.0, 2.0, 3.0], dtype = torch.float16)\n",
    "tensor2.dtype"
   ]
  },
  {
   "cell_type": "markdown",
   "id": "e35a4b6f-dd40-4763-a1b7-4dfc8702961e",
   "metadata": {},
   "source": [
    "# Note:- Single precision Floating point refers to Float32, half precision refers to Float16, and double precision refers to Float64.\n",
    "\n",
    "\n",
    "# Precision, simply refers to the detail/quality a number is expressed. Float64 can store numbers with better details than Float 32."
   ]
  },
  {
   "cell_type": "markdown",
   "id": "2a25f79a-8ad8-47ed-a70d-bfa3cab6018d",
   "metadata": {},
   "source": [
    "# Important parameters while creating a Tensor."
   ]
  },
  {
   "cell_type": "code",
   "execution_count": 33,
   "id": "5be7bebb-7af3-4f35-b6d4-256d5348e345",
   "metadata": {},
   "outputs": [
    {
     "data": {
      "text/plain": [
       "torch.float32"
      ]
     },
     "execution_count": 33,
     "metadata": {},
     "output_type": "execute_result"
    }
   ],
   "source": [
    "tensor3 = torch.tensor([1.0, 2.0, 3.0], dtype = None, # what is the datatype of the tensor ?\n",
    "                                        device = None, # What device is your tensor on ? by default it is \"cpu\"\n",
    "                                        requires_grad = False) # whether to track gradient or not for this tensor.\n",
    "tensor3.dtype"
   ]
  },
  {
   "cell_type": "code",
   "execution_count": 34,
   "id": "7f90fc6c-e460-4d7b-8b14-25019c506f9b",
   "metadata": {},
   "outputs": [],
   "source": [
    "tensor3_16 = tensor3.type(torch.float16)"
   ]
  },
  {
   "cell_type": "code",
   "execution_count": 35,
   "id": "53c1d80f-a60b-40a1-bb18-ec4ed18ee533",
   "metadata": {},
   "outputs": [],
   "source": [
    "tensor3_half = tensor3.type(torch.half) # half is float16."
   ]
  },
  {
   "cell_type": "code",
   "execution_count": 36,
   "id": "56108b6e-e38c-46e8-a2c7-67500233bf7b",
   "metadata": {},
   "outputs": [
    {
     "data": {
      "text/plain": [
       "(torch.float32, torch.float16, torch.float16)"
      ]
     },
     "execution_count": 36,
     "metadata": {},
     "output_type": "execute_result"
    }
   ],
   "source": [
    "tensor3.dtype, tensor3_16.dtype, tensor3_half.dtype"
   ]
  },
  {
   "cell_type": "markdown",
   "id": "ccd9fc99-68ae-45ea-a3e6-47691b7b4828",
   "metadata": {},
   "source": [
    "# Common errors we'll need to deal while working on Pytorch for deep learning, include\n",
    "\n",
    "1) **Tensors not right datatype**.\n",
    "2) **Tensors not right shape**.\n",
    "3) **Tensors not on the right device**."
   ]
  },
  {
   "cell_type": "markdown",
   "id": "61c6805a-a477-4e6e-ad32-0ea69f9e2967",
   "metadata": {},
   "source": [
    "# **Note:- When a higher precision tensor is multiplied with a lower precision tensor, the resulting tensor will be in higher precision.**"
   ]
  },
  {
   "cell_type": "code",
   "execution_count": 37,
   "id": "a3c32172-7826-486c-9515-cc5062b73180",
   "metadata": {},
   "outputs": [
    {
     "data": {
      "text/plain": [
       "tensor([1, 2, 3], dtype=torch.int32)"
      ]
     },
     "execution_count": 37,
     "metadata": {},
     "output_type": "execute_result"
    }
   ],
   "source": [
    "int32_tensor = torch.tensor([1, 2, 3], dtype = torch.int32)\n",
    "int32_tensor"
   ]
  },
  {
   "cell_type": "code",
   "execution_count": 38,
   "id": "63c82a0e-8cbe-4a29-a577-fd462193c364",
   "metadata": {},
   "outputs": [
    {
     "data": {
      "text/plain": [
       "torch.float32"
      ]
     },
     "execution_count": 38,
     "metadata": {},
     "output_type": "execute_result"
    }
   ],
   "source": [
    "(tensor3 * tensor3_16).dtype "
   ]
  },
  {
   "cell_type": "code",
   "execution_count": 39,
   "id": "636d1d88-2e4a-470d-a499-5b63cbbe35c6",
   "metadata": {},
   "outputs": [
    {
     "data": {
      "text/plain": [
       "torch.float32"
      ]
     },
     "execution_count": 39,
     "metadata": {},
     "output_type": "execute_result"
    }
   ],
   "source": [
    "(tensor3 * int32_tensor).dtype"
   ]
  },
  {
   "cell_type": "code",
   "execution_count": 40,
   "id": "e71311a3-1d00-4bc5-9454-62aaecb7c621",
   "metadata": {},
   "outputs": [
    {
     "data": {
      "text/plain": [
       "torch.float16"
      ]
     },
     "execution_count": 40,
     "metadata": {},
     "output_type": "execute_result"
    }
   ],
   "source": [
    "(tensor3_16 * int32_tensor).dtype"
   ]
  },
  {
   "cell_type": "markdown",
   "id": "ad965100-a49a-4578-8add-b530aeede7d9",
   "metadata": {},
   "source": [
    "# Getting Tensor Attributes:- \n",
    "\n",
    "        1) Getting datatype of a tensor, Tensor.dtype\n",
    "        2) Getting shape of a tensor, Tensor.shape\n",
    "        3) Getting dimensions of a tensor, Tensor.ndim\n",
    "        4) Getting device (on what device the tensor is hosted) of a tensor, Tensor.device\n",
    "\n",
    "# **Note:- In python, attributes of an object are accessed like \"object.attribute\". Here, tensor is an object and dtype, shape, ndim, device are its attributes.**"
   ]
  },
  {
   "cell_type": "code",
   "execution_count": 41,
   "id": "36e0eef2-2af0-443a-87cc-fcba35a0a2f2",
   "metadata": {},
   "outputs": [
    {
     "data": {
      "text/plain": [
       "tensor([[[0.8682, 0.5058, 0.5698, 0.7906, 0.4646, 0.6020],\n",
       "         [0.9752, 0.7007, 0.8895, 0.4691, 0.8469, 0.8328],\n",
       "         [0.0698, 0.9147, 0.7477, 0.9177, 0.3683, 0.5870],\n",
       "         [0.8754, 0.4541, 0.6659, 0.8025, 0.3481, 0.0563]],\n",
       "\n",
       "        [[0.9191, 0.3144, 0.5530, 0.3185, 0.4005, 0.7441],\n",
       "         [0.3989, 0.4509, 0.9448, 0.4154, 0.3149, 0.7497],\n",
       "         [0.1124, 0.3373, 0.1716, 0.9501, 0.9068, 0.5078],\n",
       "         [0.8020, 0.3295, 0.1817, 0.3566, 0.1630, 0.2054]]])"
      ]
     },
     "execution_count": 41,
     "metadata": {},
     "output_type": "execute_result"
    }
   ],
   "source": [
    "r_tensor = torch.rand(2, 4, 6)\n",
    "r_tensor"
   ]
  },
  {
   "cell_type": "code",
   "execution_count": 42,
   "id": "7d646d26-4ba2-4dfb-a597-7310930952e0",
   "metadata": {},
   "outputs": [
    {
     "data": {
      "text/plain": [
       "3"
      ]
     },
     "execution_count": 42,
     "metadata": {},
     "output_type": "execute_result"
    }
   ],
   "source": [
    "r_tensor.ndim"
   ]
  },
  {
   "cell_type": "code",
   "execution_count": 43,
   "id": "c800c106-5cb6-488b-8c03-7360355c08f7",
   "metadata": {},
   "outputs": [
    {
     "data": {
      "text/plain": [
       "torch.Size([2, 4, 6])"
      ]
     },
     "execution_count": 43,
     "metadata": {},
     "output_type": "execute_result"
    }
   ],
   "source": [
    "r_tensor.shape"
   ]
  },
  {
   "cell_type": "code",
   "execution_count": 44,
   "id": "d0d055a6-076a-4008-bf81-0d424f97e61f",
   "metadata": {},
   "outputs": [
    {
     "data": {
      "text/plain": [
       "torch.float32"
      ]
     },
     "execution_count": 44,
     "metadata": {},
     "output_type": "execute_result"
    }
   ],
   "source": [
    "r_tensor.dtype"
   ]
  },
  {
   "cell_type": "markdown",
   "id": "a49c17ce-26fe-4219-8594-5701161ee685",
   "metadata": {},
   "source": [
    "# I'm using Macbook and macbook doesn't have a nvidia gpu, so no support for cuda. However, PyTorch supports Metal Performance Shaders (MPS) as the backend for GPU acceleration on macOS."
   ]
  },
  {
   "cell_type": "code",
   "execution_count": 45,
   "id": "1534b612-08bd-4268-9d68-a5fa132ebe51",
   "metadata": {},
   "outputs": [
    {
     "name": "stdout",
     "output_type": "stream",
     "text": [
      "True\n"
     ]
    }
   ],
   "source": [
    "print(torch.backends.mps.is_available())"
   ]
  },
  {
   "cell_type": "code",
   "execution_count": 46,
   "id": "dd770cc4-e2aa-4524-8f12-8018b42a07f7",
   "metadata": {},
   "outputs": [
    {
     "data": {
      "text/plain": [
       "device(type='cpu')"
      ]
     },
     "execution_count": 46,
     "metadata": {},
     "output_type": "execute_result"
    }
   ],
   "source": [
    "r_tensor.device # by default, ptorch create tensors on \"cpu\"."
   ]
  },
  {
   "cell_type": "code",
   "execution_count": 47,
   "id": "3465082e-103e-4cfc-b879-f368cca47089",
   "metadata": {},
   "outputs": [
    {
     "data": {
      "text/plain": [
       "torch.float32"
      ]
     },
     "execution_count": 47,
     "metadata": {},
     "output_type": "execute_result"
    }
   ],
   "source": [
    "tensor3_on_gpu = torch.rand((2, 4, 6), device = \"mps\") # whether to track gradient or not for this tensor.\n",
    "tensor3_on_gpu.dtype"
   ]
  },
  {
   "cell_type": "code",
   "execution_count": 48,
   "id": "1574797b-c533-4207-b558-957445249629",
   "metadata": {},
   "outputs": [
    {
     "data": {
      "text/plain": [
       "device(type='mps')"
      ]
     },
     "execution_count": 48,
     "metadata": {},
     "output_type": "execute_result"
    }
   ],
   "source": [
    "device = torch.device(\"mps\") # setting GPU for use.\n",
    "device"
   ]
  },
  {
   "cell_type": "code",
   "execution_count": 49,
   "id": "b0de3f8d-b79f-4264-a9f0-f6e3950244b4",
   "metadata": {},
   "outputs": [
    {
     "data": {
      "text/plain": [
       "device(type='mps', index=0)"
      ]
     },
     "execution_count": 49,
     "metadata": {},
     "output_type": "execute_result"
    }
   ],
   "source": [
    "tensor3_on_gpu.device"
   ]
  },
  {
   "cell_type": "markdown",
   "id": "7003d114-02f7-4fc6-8605-fba1db3dc035",
   "metadata": {},
   "source": [
    "# This throw an error, as both tensors are hosted on different devices.\n",
    "\n",
    "**r_tensor * tensor3_on_gpu**"
   ]
  },
  {
   "cell_type": "markdown",
   "id": "44fb29f6-6a5b-4a6a-a1b5-ab7479c91afc",
   "metadata": {},
   "source": [
    " "
   ]
  },
  {
   "cell_type": "markdown",
   "id": "de5794d9-8ae5-4399-ad09-5ed3555c32f2",
   "metadata": {},
   "source": [
    "# Manipulating Tensors\n",
    "\n",
    "# **Tensor Operations include:- Addition, Subtraction, Multiplication (element-wise), Division, and Matrix Multiplication**"
   ]
  },
  {
   "cell_type": "code",
   "execution_count": 50,
   "id": "55bfaa4f-2259-422b-b9dc-c47ef955660f",
   "metadata": {},
   "outputs": [
    {
     "data": {
      "text/plain": [
       "tensor([1, 2, 3])"
      ]
     },
     "execution_count": 50,
     "metadata": {},
     "output_type": "execute_result"
    }
   ],
   "source": [
    "# Creating a sample tensor.\n",
    "\n",
    "sample_tensor = torch.tensor([1, 2, 3])\n",
    "sample_tensor"
   ]
  },
  {
   "cell_type": "code",
   "execution_count": 51,
   "id": "3e20a87b-9e9a-46c2-a7ab-772bcb2455dc",
   "metadata": {},
   "outputs": [
    {
     "data": {
      "text/plain": [
       "tensor([11, 12, 13])"
      ]
     },
     "execution_count": 51,
     "metadata": {},
     "output_type": "execute_result"
    }
   ],
   "source": [
    "# Adding 10 to our tensor.\n",
    "\n",
    "sample_tensor + 10 # note:- we didn't update our \"sample tensor\"."
   ]
  },
  {
   "cell_type": "code",
   "execution_count": 52,
   "id": "941075f5-7e82-4b46-9b6c-6453a85f9479",
   "metadata": {},
   "outputs": [
    {
     "data": {
      "text/plain": [
       "tensor([10, 20, 30])"
      ]
     },
     "execution_count": 52,
     "metadata": {},
     "output_type": "execute_result"
    }
   ],
   "source": [
    "# Multiplying tensor by 10.\n",
    "\n",
    "sample_tensor * 10"
   ]
  },
  {
   "cell_type": "code",
   "execution_count": 53,
   "id": "fa79dd94-7a03-4eaf-b95b-15ffb06b8da8",
   "metadata": {},
   "outputs": [
    {
     "data": {
      "text/plain": [
       "tensor([-9, -8, -7])"
      ]
     },
     "execution_count": 53,
     "metadata": {},
     "output_type": "execute_result"
    }
   ],
   "source": [
    "# Subtracting 10 from our tensor.\n",
    "\n",
    "sample_tensor - 10"
   ]
  },
  {
   "cell_type": "code",
   "execution_count": 54,
   "id": "ddd60e1b-23aa-4ee7-91fe-0d58d8bb0a0a",
   "metadata": {},
   "outputs": [
    {
     "data": {
      "text/plain": [
       "tensor([0.1000, 0.2000, 0.3000])"
      ]
     },
     "execution_count": 54,
     "metadata": {},
     "output_type": "execute_result"
    }
   ],
   "source": [
    "# Dividing our sample tensor by 10.\n",
    "\n",
    "sample_tensor / 10"
   ]
  },
  {
   "cell_type": "markdown",
   "id": "89bd0fa6-4afa-4fe0-9fd9-30ceca63b342",
   "metadata": {},
   "source": [
    "# We can perform the basic operations using built-in functions from torch as well, but generally normal python operators are used."
   ]
  },
  {
   "cell_type": "code",
   "execution_count": 55,
   "id": "256d6338-a2a7-43ea-bdc5-c4c6f24e5409",
   "metadata": {},
   "outputs": [
    {
     "data": {
      "text/plain": [
       "(tensor([11, 12, 13]), tensor([10, 20, 30]), tensor([-9, -8, -7]))"
      ]
     },
     "execution_count": 55,
     "metadata": {},
     "output_type": "execute_result"
    }
   ],
   "source": [
    "torch.add(sample_tensor, 10), torch.mul(sample_tensor, 10), torch.sub(sample_tensor, 10)"
   ]
  },
  {
   "cell_type": "markdown",
   "id": "3e45ff02-b119-44f8-b10e-cb53217c0dc2",
   "metadata": {},
   "source": [
    " "
   ]
  },
  {
   "cell_type": "markdown",
   "id": "fa2ce18a-19eb-435e-a866-2eb1fd3a22bd",
   "metadata": {},
   "source": [
    "# There are teo main ways of performing multiplication in neural networks and deep learning,\n",
    "\n",
    "## 1) Element wise multiplication (multiplying each element at a time).\n",
    "## 2) Matrix multiplication (multiplying a matrix with another matrix). It is also referred as dot product of two matrix."
   ]
  },
  {
   "cell_type": "code",
   "execution_count": 56,
   "id": "2d39926e-6521-469b-8659-366bc8039f6f",
   "metadata": {},
   "outputs": [
    {
     "data": {
      "text/plain": [
       "tensor([1, 2, 3])"
      ]
     },
     "execution_count": 56,
     "metadata": {},
     "output_type": "execute_result"
    }
   ],
   "source": [
    "# Creating a sample tensor.\n",
    "\n",
    "sample_tensor = torch.tensor([1, 2, 3])\n",
    "sample_tensor"
   ]
  },
  {
   "cell_type": "markdown",
   "id": "ab2c8db3-05fe-487f-9aa2-afb1f6c9584f",
   "metadata": {},
   "source": [
    "# Element wise multiplication\n",
    "\n",
    "\n",
    "### So, by using * we multiplied the element at a position in tensor1, with the element at the same position in tensor2."
   ]
  },
  {
   "cell_type": "code",
   "execution_count": 57,
   "id": "6fbb8a0d-9cc1-4b42-a590-4b2d69f6d4a8",
   "metadata": {},
   "outputs": [
    {
     "data": {
      "text/plain": [
       "tensor([1, 4, 9])"
      ]
     },
     "execution_count": 57,
     "metadata": {},
     "output_type": "execute_result"
    }
   ],
   "source": [
    "sample_tensor * sample_tensor"
   ]
  },
  {
   "cell_type": "markdown",
   "id": "0c56f122-8f49-431f-8f5c-122f6a6a137f",
   "metadata": {},
   "source": [
    " "
   ]
  },
  {
   "cell_type": "markdown",
   "id": "e7b8845f-f653-499a-80e9-404b65e90547",
   "metadata": {},
   "source": [
    "# Matrix multiplication (dot product)"
   ]
  },
  {
   "cell_type": "code",
   "execution_count": 58,
   "id": "0fe7c838-9b30-44ed-a83e-ab30ad372e27",
   "metadata": {},
   "outputs": [
    {
     "data": {
      "text/plain": [
       "tensor(14)"
      ]
     },
     "execution_count": 58,
     "metadata": {},
     "output_type": "execute_result"
    }
   ],
   "source": [
    "torch.matmul(sample_tensor, sample_tensor) # 1*1 + 2*2 + 3*3"
   ]
  },
  {
   "cell_type": "code",
   "execution_count": 59,
   "id": "b78ab6bd-fa44-43bb-915c-f4a8e6641ce0",
   "metadata": {},
   "outputs": [
    {
     "data": {
      "text/plain": [
       "tensor(14)"
      ]
     },
     "execution_count": 59,
     "metadata": {},
     "output_type": "execute_result"
    }
   ],
   "source": [
    "# @ is an operator that can also be used to perform matrix multiplication, like torch.matmul(). However, it is not used often.\n",
    "\n",
    "sample_tensor @ sample_tensor"
   ]
  },
  {
   "cell_type": "markdown",
   "id": "5ae10462-e755-4f9b-b78b-3029d8d2a8aa",
   "metadata": {},
   "source": [
    "## **Common rules for matrix multiplication**\n",
    "\n",
    "1) The **inner dimensions** must match. Example:- a matrix with shape (3, 2) can't be multiplied with a matrix with shape (3, 2). However, matrix multiplication between a matrix with shape (3, 2) can be multiplied with a matrix with shape (2, 3). The rule is like the number of rows in matrix1 must be equal to the number of columns in the matrix2.\n",
    "   \n",
    "2) The resulting matrix will have the shape of the **outer dimensions**. (**3**, 2) @ (2, **3**) will have the shape (3, 3)"
   ]
  },
  {
   "cell_type": "code",
   "execution_count": 60,
   "id": "84dd9461-961d-48a5-96eb-d4bab5976882",
   "metadata": {},
   "outputs": [
    {
     "data": {
      "text/plain": [
       "tensor([[1.2029, 0.8554, 0.7069],\n",
       "        [1.1766, 0.8628, 0.7124],\n",
       "        [0.4220, 0.0765, 0.0679]])"
      ]
     },
     "execution_count": 60,
     "metadata": {},
     "output_type": "execute_result"
    }
   ],
   "source": [
    "torch.matmul(torch.rand(3, 2), torch.rand(2, 3))"
   ]
  },
  {
   "cell_type": "markdown",
   "id": "d325abc2-ad97-4a4e-90f1-bd18a07f92d8",
   "metadata": {},
   "source": [
    "# **Note:- In a tensor like torch.tensor([[1, 2], [1, 2], [1, 2]]), the number of elements in the main list represents the number of rows, and the number of elements in each sublist represents the number of columns. SO, this is basically a 3 rows 2 column matrix.**"
   ]
  },
  {
   "cell_type": "markdown",
   "id": "ed5ceb67-e0b0-4bea-9951-d859947fa17a",
   "metadata": {},
   "source": [
    " "
   ]
  },
  {
   "cell_type": "markdown",
   "id": "7efa0741-56b4-4753-b32c-313e532dd4d6",
   "metadata": {},
   "source": [
    "# One of the most common error that we'll encounter will working with Pytorch on Neural Networks is the shape error. Which in most cases will be tensor1 can't be multiplied with tensor 2 because of different shape."
   ]
  },
  {
   "cell_type": "code",
   "execution_count": 61,
   "id": "7e69a0bb-a1f4-4df9-9f7e-c269553b9b58",
   "metadata": {},
   "outputs": [],
   "source": [
    "random_tensor1 = torch.rand(2, 3)\n",
    "random_tensor2 = torch.rand(2, 3)"
   ]
  },
  {
   "cell_type": "code",
   "execution_count": 62,
   "id": "07f653da-2afe-4cac-b744-27781d419c5f",
   "metadata": {},
   "outputs": [
    {
     "data": {
      "text/plain": [
       "(torch.Size([2, 3]), torch.Size([2, 3]))"
      ]
     },
     "execution_count": 62,
     "metadata": {},
     "output_type": "execute_result"
    }
   ],
   "source": [
    "random_tensor1.shape, random_tensor2.shape"
   ]
  },
  {
   "cell_type": "markdown",
   "id": "b217331e-816a-431b-b39e-ee45be000dd4",
   "metadata": {},
   "source": [
    "# As per the first rule, multiplication of these two tensors will cause an error. But these tensors already exists and we can't replace them with new tensors. So, to solve such problems we use matrix manipulation techniques like, taking Transpose of a matrix."
   ]
  },
  {
   "cell_type": "code",
   "execution_count": 63,
   "id": "18431308-93f9-4d77-81f1-466ff9ee9085",
   "metadata": {},
   "outputs": [
    {
     "data": {
      "text/plain": [
       "(torch.Size([2, 3]), torch.Size([3, 2]))"
      ]
     },
     "execution_count": 63,
     "metadata": {},
     "output_type": "execute_result"
    }
   ],
   "source": [
    "random_tensor1.shape, random_tensor1.T.shape # So, transpose of a matrix switches the axis or dimensions of the given matrix."
   ]
  },
  {
   "cell_type": "markdown",
   "id": "fa08260f-9e2a-44fc-80e3-fe3130fbb324",
   "metadata": {},
   "source": [
    "# Now, with the transpose we can actually perform multiplication of these matrices."
   ]
  },
  {
   "cell_type": "code",
   "execution_count": 64,
   "id": "61f1bc0c-d49e-418e-a689-aac4eafbe4aa",
   "metadata": {},
   "outputs": [
    {
     "data": {
      "text/plain": [
       "tensor([[1.3068, 0.1360, 0.7303],\n",
       "        [0.7813, 0.0821, 0.4382],\n",
       "        [0.8167, 0.1016, 0.4883]])"
      ]
     },
     "execution_count": 64,
     "metadata": {},
     "output_type": "execute_result"
    }
   ],
   "source": [
    "torch.mm(random_tensor1.T, random_tensor2) # torch.mm() is the same as torch.matmul() "
   ]
  },
  {
   "cell_type": "markdown",
   "id": "ab1d5b58-1d83-449c-8864-22c7ec91cbda",
   "metadata": {},
   "source": [
    " "
   ]
  },
  {
   "cell_type": "markdown",
   "id": "0983135b-3271-47fb-bae0-77651a643920",
   "metadata": {},
   "source": [
    "# Tensor Aggregation:- Finding min, max, mean, sum, etc."
   ]
  },
  {
   "cell_type": "code",
   "execution_count": 65,
   "id": "50510700-c502-457f-9769-ddf9dfd5e190",
   "metadata": {},
   "outputs": [
    {
     "data": {
      "text/plain": [
       "tensor([[0.3437, 0.4587, 0.9179],\n",
       "        [0.5219, 0.3375, 0.2658],\n",
       "        [0.3536, 0.3569, 0.6624]])"
      ]
     },
     "execution_count": 65,
     "metadata": {},
     "output_type": "execute_result"
    }
   ],
   "source": [
    "random_tensor = torch.rand(3, 3)\n",
    "random_tensor"
   ]
  },
  {
   "cell_type": "code",
   "execution_count": 66,
   "id": "2e102088-2884-4de5-bcfb-9230340d50b9",
   "metadata": {},
   "outputs": [
    {
     "data": {
      "text/plain": [
       "(tensor(0.2658), tensor(0.2658))"
      ]
     },
     "execution_count": 66,
     "metadata": {},
     "output_type": "execute_result"
    }
   ],
   "source": [
    "# Finding minimum value in a tensor.\n",
    "\n",
    "torch.min(random_tensor), random_tensor.min()"
   ]
  },
  {
   "cell_type": "code",
   "execution_count": 67,
   "id": "c880a858-d1b8-4926-ad19-855f54bce928",
   "metadata": {},
   "outputs": [
    {
     "data": {
      "text/plain": [
       "(tensor(0.9179), tensor(0.9179))"
      ]
     },
     "execution_count": 67,
     "metadata": {},
     "output_type": "execute_result"
    }
   ],
   "source": [
    "# Finding maximum value in a tensor.\n",
    "\n",
    "torch.max(random_tensor), random_tensor.max()"
   ]
  },
  {
   "cell_type": "code",
   "execution_count": 68,
   "id": "443bc2f8-30a8-4ce7-92e4-c88e4652b9ec",
   "metadata": {},
   "outputs": [
    {
     "data": {
      "text/plain": [
       "(tensor(4.2182), tensor(4.2182))"
      ]
     },
     "execution_count": 68,
     "metadata": {},
     "output_type": "execute_result"
    }
   ],
   "source": [
    "# Finding the sum of a tensor.\n",
    "\n",
    "torch.sum(random_tensor), random_tensor.sum()"
   ]
  },
  {
   "cell_type": "code",
   "execution_count": 69,
   "id": "7c62159d-d06a-4e7d-b687-4249ed4eca61",
   "metadata": {},
   "outputs": [
    {
     "data": {
      "text/plain": [
       "(tensor(0.4687), tensor(0.4687))"
      ]
     },
     "execution_count": 69,
     "metadata": {},
     "output_type": "execute_result"
    }
   ],
   "source": [
    "# Finding mean of a tensor.\n",
    "\n",
    "torch.mean(random_tensor), random_tensor.mean()"
   ]
  },
  {
   "cell_type": "markdown",
   "id": "20455cd3-1d81-4855-a24e-71ccee890d1c",
   "metadata": {},
   "source": [
    "# Note:- torch.mean() works only for tensors in floating point or complex dtype. So, in order to calculate mean of a tensor with Integer datatype, we need to change its dtype, using tensor.type(torch.float32) function."
   ]
  },
  {
   "cell_type": "code",
   "execution_count": 70,
   "id": "8a8e88bc-a47e-4e56-843e-50acd39c03d8",
   "metadata": {},
   "outputs": [
    {
     "data": {
      "text/plain": [
       "tensor([ 0,  5, 10, 15, 20, 25, 30, 35, 40, 45, 50, 55, 60, 65, 70, 75, 80, 85,\n",
       "        90, 95])"
      ]
     },
     "execution_count": 70,
     "metadata": {},
     "output_type": "execute_result"
    }
   ],
   "source": [
    "srt = torch.arange(0, 100, 5)\n",
    "srt"
   ]
  },
  {
   "cell_type": "code",
   "execution_count": 71,
   "id": "b4b3a673-7e37-45ea-b246-908e6ea3af44",
   "metadata": {},
   "outputs": [
    {
     "data": {
      "text/plain": [
       "(tensor(47.5000), tensor(47.5000))"
      ]
     },
     "execution_count": 71,
     "metadata": {},
     "output_type": "execute_result"
    }
   ],
   "source": [
    "torch.mean(srt.type(torch.float32)), srt.type(torch.float32).mean()"
   ]
  },
  {
   "cell_type": "markdown",
   "id": "9c7b4540-4837-4464-84fd-0ce8bfe010a6",
   "metadata": {},
   "source": [
    "# Finding positional min and max in a tensor."
   ]
  },
  {
   "cell_type": "code",
   "execution_count": 72,
   "id": "431557a2-09ab-4b14-95ef-33026ee3bd36",
   "metadata": {},
   "outputs": [
    {
     "data": {
      "text/plain": [
       "tensor(0)"
      ]
     },
     "execution_count": 72,
     "metadata": {},
     "output_type": "execute_result"
    }
   ],
   "source": [
    "srt.argmin() # it returns the index of the minimum value in the tensor."
   ]
  },
  {
   "cell_type": "code",
   "execution_count": 73,
   "id": "16f1d500-ba26-4357-ab7d-5a7934c0153e",
   "metadata": {},
   "outputs": [
    {
     "data": {
      "text/plain": [
       "tensor(19)"
      ]
     },
     "execution_count": 73,
     "metadata": {},
     "output_type": "execute_result"
    }
   ],
   "source": [
    "srt.argmax() # it returns the index of the maximum value in the tensor."
   ]
  },
  {
   "cell_type": "code",
   "execution_count": 74,
   "id": "82fbcf58-23bf-4fd6-a1cb-8b85ca44f976",
   "metadata": {},
   "outputs": [
    {
     "data": {
      "text/plain": [
       "tensor([[0.5075, 0.9876, 0.6280],\n",
       "        [0.0750, 0.5745, 0.6184],\n",
       "        [0.9655, 0.0444, 0.4062]])"
      ]
     },
     "execution_count": 74,
     "metadata": {},
     "output_type": "execute_result"
    }
   ],
   "source": [
    "random_tensor = torch.rand(3, 3)\n",
    "random_tensor"
   ]
  },
  {
   "cell_type": "code",
   "execution_count": 75,
   "id": "c8c67c5f-25f6-47ef-96a2-b90932612d50",
   "metadata": {},
   "outputs": [
    {
     "data": {
      "text/plain": [
       "(tensor(0.9655), tensor(0.4062))"
      ]
     },
     "execution_count": 75,
     "metadata": {},
     "output_type": "execute_result"
    }
   ],
   "source": [
    "random_tensor[2][0], random_tensor[2][2]"
   ]
  },
  {
   "cell_type": "code",
   "execution_count": 76,
   "id": "a155a5d5-3c29-4954-8327-0dc2acc5369b",
   "metadata": {},
   "outputs": [
    {
     "data": {
      "text/plain": [
       "(tensor(7), tensor(1))"
      ]
     },
     "execution_count": 76,
     "metadata": {},
     "output_type": "execute_result"
    }
   ],
   "source": [
    "random_tensor.argmin(), random_tensor.argmax()"
   ]
  },
  {
   "cell_type": "markdown",
   "id": "e3ee3e18-bfc6-45d6-b91b-2f923dea6083",
   "metadata": {},
   "source": [
    "# Reshaping, Viewing, Stacking, Sqeezing, Unsqeezing, and permute.\n",
    "\n",
    "### 1) reshaping is used to reshape a defined shape.\n",
    "### 2) view, returns a view of the input tensor of certain shape but keep the same memory as the original tensor.\n",
    "### 3) stacking, combine multiple tensors on top of each other (vertical stack or horizontal stack).\n",
    "### 4) sqeezing, remove the 1 dimensions from the tensor.\n",
    "### 5) unsqeezing, add a 1 dimensions to the tensor.\n",
    "### 6) permute, return a view of the input tensor with dimensions permuted (swapped) in a ceratin way."
   ]
  },
  {
   "cell_type": "code",
   "execution_count": 77,
   "id": "934422d7-1ab0-4d8c-b61d-a11bfa652db1",
   "metadata": {},
   "outputs": [
    {
     "data": {
      "text/plain": [
       "(tensor([[0.8404, 0.6793, 0.0428],\n",
       "         [0.1521, 0.8661, 0.1227],\n",
       "         [0.4064, 0.3497, 0.1448]]),\n",
       " 2,\n",
       " torch.Size([3, 3]))"
      ]
     },
     "execution_count": 77,
     "metadata": {},
     "output_type": "execute_result"
    }
   ],
   "source": [
    "random_tensor = torch.rand(3, 3)\n",
    "random_tensor, random_tensor.ndim, random_tensor.shape"
   ]
  },
  {
   "cell_type": "markdown",
   "id": "c7bc0867-b115-43c3-9825-b1aca7ac8496",
   "metadata": {},
   "source": [
    "# Important thing is to understand that there were nine elements in the original tensor, and how we can arrange them is 9 or 1 * 9 or 9 * 1."
   ]
  },
  {
   "cell_type": "code",
   "execution_count": 78,
   "id": "19bc3a58-85fa-4e99-bf76-1a21859c9a06",
   "metadata": {},
   "outputs": [
    {
     "data": {
      "text/plain": [
       "(tensor([0.8404, 0.6793, 0.0428, 0.1521, 0.8661, 0.1227, 0.4064, 0.3497, 0.1448]),\n",
       " 1,\n",
       " torch.Size([9]))"
      ]
     },
     "execution_count": 78,
     "metadata": {},
     "output_type": "execute_result"
    }
   ],
   "source": [
    "# removing dimension using reshape.\n",
    "\n",
    "rt_reshaped1 = random_tensor.reshape(9)\n",
    "rt_reshaped1, rt_reshaped1.ndim, rt_reshaped1.shape"
   ]
  },
  {
   "cell_type": "code",
   "execution_count": 79,
   "id": "dedfa18f-d85b-4659-8ddf-28bb98ba6ce6",
   "metadata": {},
   "outputs": [
    {
     "data": {
      "text/plain": [
       "(tensor([[0.8404, 0.6793, 0.0428, 0.1521, 0.8661, 0.1227, 0.4064, 0.3497, 0.1448]]),\n",
       " 2,\n",
       " torch.Size([1, 9]))"
      ]
     },
     "execution_count": 79,
     "metadata": {},
     "output_type": "execute_result"
    }
   ],
   "source": [
    "# removing dimension using reshape.\n",
    "\n",
    "rt_reshaped2 = random_tensor.reshape(1, 9)\n",
    "rt_reshaped2, rt_reshaped2.ndim, rt_reshaped2.shape"
   ]
  },
  {
   "cell_type": "code",
   "execution_count": 80,
   "id": "ecbfa182-500b-4712-abc2-e268b991e438",
   "metadata": {},
   "outputs": [
    {
     "data": {
      "text/plain": [
       "(tensor([[0.8404],\n",
       "         [0.6793],\n",
       "         [0.0428],\n",
       "         [0.1521],\n",
       "         [0.8661],\n",
       "         [0.1227],\n",
       "         [0.4064],\n",
       "         [0.3497],\n",
       "         [0.1448]]),\n",
       " 2,\n",
       " torch.Size([9, 1]))"
      ]
     },
     "execution_count": 80,
     "metadata": {},
     "output_type": "execute_result"
    }
   ],
   "source": [
    "# removing dimension using reshape.\n",
    "\n",
    "rt_reshaped3 = random_tensor.reshape(9, 1)\n",
    "rt_reshaped3, rt_reshaped3.ndim, rt_reshaped3.shape"
   ]
  },
  {
   "cell_type": "code",
   "execution_count": 81,
   "id": "56756f85-7e45-4228-99c9-b38d2ce988d3",
   "metadata": {},
   "outputs": [],
   "source": [
    "# Changing the view of the tensor.\n",
    "\n",
    "rt_view1 = random_tensor.view(9)\n",
    "rt_view2 = random_tensor.reshape(1, 9)\n",
    "rt_view3 = random_tensor.reshape(9, 1)"
   ]
  },
  {
   "cell_type": "code",
   "execution_count": 82,
   "id": "0a9fdbde-1e83-44a9-98cc-0218f70109ab",
   "metadata": {},
   "outputs": [
    {
     "data": {
      "text/plain": [
       "(tensor([0.8404, 0.6793, 0.0428, 0.1521, 0.8661, 0.1227, 0.4064, 0.3497, 0.1448]),\n",
       " 1,\n",
       " torch.Size([9]))"
      ]
     },
     "execution_count": 82,
     "metadata": {},
     "output_type": "execute_result"
    }
   ],
   "source": [
    "rt_view1, rt_view1.ndim, rt_view1.shape"
   ]
  },
  {
   "cell_type": "code",
   "execution_count": 83,
   "id": "f2250bc0-f93a-45d0-9d01-876b40bd01e7",
   "metadata": {},
   "outputs": [
    {
     "data": {
      "text/plain": [
       "(tensor([[0.8404, 0.6793, 0.0428, 0.1521, 0.8661, 0.1227, 0.4064, 0.3497, 0.1448]]),\n",
       " 2,\n",
       " torch.Size([1, 9]))"
      ]
     },
     "execution_count": 83,
     "metadata": {},
     "output_type": "execute_result"
    }
   ],
   "source": [
    "rt_view2, rt_view2.ndim, rt_view2.shape"
   ]
  },
  {
   "cell_type": "code",
   "execution_count": 84,
   "id": "5321d403-98a3-4963-a2a2-268dcbd6b96d",
   "metadata": {},
   "outputs": [
    {
     "data": {
      "text/plain": [
       "(tensor([[0.8404],\n",
       "         [0.6793],\n",
       "         [0.0428],\n",
       "         [0.1521],\n",
       "         [0.8661],\n",
       "         [0.1227],\n",
       "         [0.4064],\n",
       "         [0.3497],\n",
       "         [0.1448]]),\n",
       " 2,\n",
       " torch.Size([9, 1]))"
      ]
     },
     "execution_count": 84,
     "metadata": {},
     "output_type": "execute_result"
    }
   ],
   "source": [
    "rt_view3, rt_view3.ndim, rt_view3.shape"
   ]
  },
  {
   "cell_type": "markdown",
   "id": "ab8452d8-18a0-4fcb-bcb0-c3508a3c9712",
   "metadata": {},
   "source": [
    "### So, view does the same thing as reshape, except that fact that it shares the same memory as the original tensor. Hence, changing the view changes the original tensor."
   ]
  },
  {
   "cell_type": "code",
   "execution_count": 85,
   "id": "b7ed00ef-7c5c-4bbf-8f2d-b36f6d650089",
   "metadata": {},
   "outputs": [
    {
     "data": {
      "text/plain": [
       "(tensor([[0.1000, 0.6793, 0.0428],\n",
       "         [0.1521, 0.8661, 0.1227],\n",
       "         [0.4064, 0.3497, 0.1448]]),\n",
       " tensor([0.1000, 0.6793, 0.0428, 0.1521, 0.8661, 0.1227, 0.4064, 0.3497, 0.1448]))"
      ]
     },
     "execution_count": 85,
     "metadata": {},
     "output_type": "execute_result"
    }
   ],
   "source": [
    "rt_view1[0] = 0.1\n",
    "random_tensor, rt_view1"
   ]
  },
  {
   "cell_type": "code",
   "execution_count": 86,
   "id": "90b6f084-7f7b-494b-8626-b70b4e1c6134",
   "metadata": {},
   "outputs": [
    {
     "data": {
      "text/plain": [
       "(tensor([[0.1000, 0.6793, 0.0428, 0.1521, 0.8661, 0.1227, 0.4064, 0.3497, 0.1448]]),\n",
       " tensor([[0.1000],\n",
       "         [0.6793],\n",
       "         [0.0428],\n",
       "         [0.1521],\n",
       "         [0.8661],\n",
       "         [0.1227],\n",
       "         [0.4064],\n",
       "         [0.3497],\n",
       "         [0.1448]]))"
      ]
     },
     "execution_count": 86,
     "metadata": {},
     "output_type": "execute_result"
    }
   ],
   "source": [
    "rt_view2, rt_view3"
   ]
  },
  {
   "cell_type": "markdown",
   "id": "c1d697c3-209b-4752-be97-ae24dc7f5282",
   "metadata": {},
   "source": [
    "## Important thing to note is that all views which were created using random_tensor, got changed when we altered  rt_view1 and this is simply because the original tensor got altered."
   ]
  },
  {
   "cell_type": "markdown",
   "id": "5fbe840a-bca2-4ce2-b51f-d360a46119e0",
   "metadata": {},
   "source": [
    " "
   ]
  },
  {
   "cell_type": "markdown",
   "id": "66a4b607-9d48-4eaf-a57c-d84580befe31",
   "metadata": {},
   "source": [
    "### **Stacking tensors on top of each other.**"
   ]
  },
  {
   "cell_type": "code",
   "execution_count": 87,
   "id": "383af12f-611f-4872-bf39-f5e5466cc2ca",
   "metadata": {},
   "outputs": [
    {
     "data": {
      "text/plain": [
       "(tensor([0.2646, 0.5461, 0.7986, 0.2256, 0.5475, 0.6950, 0.6799, 0.9295, 0.3322,\n",
       "         0.8640]),\n",
       " 1,\n",
       " torch.Size([10]))"
      ]
     },
     "execution_count": 87,
     "metadata": {},
     "output_type": "execute_result"
    }
   ],
   "source": [
    "random_tensor = torch.rand(10)\n",
    "random_tensor, random_tensor.ndim, random_tensor.shape"
   ]
  },
  {
   "cell_type": "code",
   "execution_count": 88,
   "id": "d94a56ef-b6f8-4961-ba8f-bba6aecf0107",
   "metadata": {},
   "outputs": [
    {
     "data": {
      "text/plain": [
       "(tensor([[0.2646, 0.5461, 0.7986, 0.2256, 0.5475, 0.6950, 0.6799, 0.9295, 0.3322,\n",
       "          0.8640],\n",
       "         [0.2646, 0.5461, 0.7986, 0.2256, 0.5475, 0.6950, 0.6799, 0.9295, 0.3322,\n",
       "          0.8640],\n",
       "         [0.2646, 0.5461, 0.7986, 0.2256, 0.5475, 0.6950, 0.6799, 0.9295, 0.3322,\n",
       "          0.8640]]),\n",
       " 2,\n",
       " torch.Size([3, 10]))"
      ]
     },
     "execution_count": 88,
     "metadata": {},
     "output_type": "execute_result"
    }
   ],
   "source": [
    "stacked_tensor = torch.stack([random_tensor, random_tensor, random_tensor], dim = 0)\n",
    "stacked_tensor, stacked_tensor.ndim, stacked_tensor.shape"
   ]
  },
  {
   "cell_type": "code",
   "execution_count": 89,
   "id": "e31acf1d-c297-44bb-994f-04eada1f598a",
   "metadata": {},
   "outputs": [
    {
     "data": {
      "text/plain": [
       "(tensor([[0.2646, 0.2646, 0.2646],\n",
       "         [0.5461, 0.5461, 0.5461],\n",
       "         [0.7986, 0.7986, 0.7986],\n",
       "         [0.2256, 0.2256, 0.2256],\n",
       "         [0.5475, 0.5475, 0.5475],\n",
       "         [0.6950, 0.6950, 0.6950],\n",
       "         [0.6799, 0.6799, 0.6799],\n",
       "         [0.9295, 0.9295, 0.9295],\n",
       "         [0.3322, 0.3322, 0.3322],\n",
       "         [0.8640, 0.8640, 0.8640]]),\n",
       " 2,\n",
       " torch.Size([10, 3]))"
      ]
     },
     "execution_count": 89,
     "metadata": {},
     "output_type": "execute_result"
    }
   ],
   "source": [
    "stacked_tensor = torch.stack([random_tensor, random_tensor, random_tensor], dim = 1)\n",
    "stacked_tensor, stacked_tensor.ndim, stacked_tensor.shape"
   ]
  },
  {
   "cell_type": "markdown",
   "id": "f50ef261-a376-47d1-9cc7-029edaafebf5",
   "metadata": {},
   "source": [
    "  "
   ]
  },
  {
   "cell_type": "markdown",
   "id": "49acefe5-a1d9-4730-81e6-f933b60866bd",
   "metadata": {},
   "source": [
    "### **torch.sqeeze() method removes all single dimensions from the target tensor.**"
   ]
  },
  {
   "cell_type": "code",
   "execution_count": 90,
   "id": "8c143c0b-10bb-444b-848f-3bc435c0fa80",
   "metadata": {},
   "outputs": [
    {
     "data": {
      "text/plain": [
       "(tensor([[[[[0., 0.]],\n",
       " \n",
       "           [[0., 0.]]]],\n",
       " \n",
       " \n",
       " \n",
       "         [[[[0., 0.]],\n",
       " \n",
       "           [[0., 0.]]]]]),\n",
       " torch.Size([2, 1, 2, 1, 2]))"
      ]
     },
     "execution_count": 90,
     "metadata": {},
     "output_type": "execute_result"
    }
   ],
   "source": [
    "# This is a random tensor, we created with 5 dimensions.\n",
    "\n",
    "w = torch.zeros(2, 1, 2, 1, 2)\n",
    "w, w.shape"
   ]
  },
  {
   "cell_type": "code",
   "execution_count": 91,
   "id": "db90312a-39c3-4e0b-98f3-bd882013a19c",
   "metadata": {},
   "outputs": [
    {
     "data": {
      "text/plain": [
       "(tensor([[[0., 0.],\n",
       "          [0., 0.]],\n",
       " \n",
       "         [[0., 0.],\n",
       "          [0., 0.]]]),\n",
       " torch.Size([2, 2, 2]))"
      ]
     },
     "execution_count": 91,
     "metadata": {},
     "output_type": "execute_result"
    }
   ],
   "source": [
    "# using torch.squeeze() we can remove all single dimensions.\n",
    "\n",
    "x = torch.squeeze(w)\n",
    "x, x.size() # size() is a function/method that provides the same result as the shape attribute."
   ]
  },
  {
   "cell_type": "markdown",
   "id": "896dd548-ba24-4a24-a0b3-469cc427c01b",
   "metadata": {},
   "source": [
    "### **torch.unsqueeze() method is used to add single dimenison to the target tensor.**"
   ]
  },
  {
   "cell_type": "code",
   "execution_count": 92,
   "id": "b964094a-2c9e-42d4-9b12-dd2c0714ff01",
   "metadata": {},
   "outputs": [
    {
     "data": {
      "text/plain": [
       "(tensor([[[[[[0., 0.]],\n",
       " \n",
       "            [[0., 0.]]]],\n",
       " \n",
       " \n",
       " \n",
       "          [[[[0., 0.]],\n",
       " \n",
       "            [[0., 0.]]]]]]),\n",
       " torch.Size([1, 2, 1, 2, 1, 2]))"
      ]
     },
     "execution_count": 92,
     "metadata": {},
     "output_type": "execute_result"
    }
   ],
   "source": [
    "y = w.unsqueeze(dim = 0) # same as calling torch.unsqeeze(w, dim = 0)\n",
    "y, y.size()"
   ]
  },
  {
   "cell_type": "markdown",
   "id": "c80acc67-a85b-4a91-8d5f-c263ee7dc347",
   "metadata": {},
   "source": [
    "### Note:- unsqeeze method/attribute adds a single dimension before (dim = 0)/after (dim = 1) for each non singular dimension. As it would be unsure, about which all dimensions were squeezed initially."
   ]
  },
  {
   "cell_type": "markdown",
   "id": "9d19d88c-e916-44a1-842a-bc9189a230dc",
   "metadata": {},
   "source": [
    "   "
   ]
  },
  {
   "cell_type": "markdown",
   "id": "bbbb5c95-10b1-4d77-b502-7a7c465a3247",
   "metadata": {},
   "source": [
    "  "
   ]
  },
  {
   "cell_type": "markdown",
   "id": "bde86dc3-b6c0-485d-ae02-4773f7e2dae8",
   "metadata": {},
   "source": [
    "### **torch.permute() is used to rearrange the dimensions (axes) of a tensor without changing its data. It returns a view of the original tensor, with its dimensions permuted.**\n",
    "\n",
    "#### Remember a view shares the same memory as the original tensor."
   ]
  },
  {
   "cell_type": "code",
   "execution_count": 93,
   "id": "c870d439-0519-4ecd-afef-2ae7660267f1",
   "metadata": {},
   "outputs": [
    {
     "data": {
      "text/plain": [
       "torch.Size([2, 3, 5])"
      ]
     },
     "execution_count": 93,
     "metadata": {},
     "output_type": "execute_result"
    }
   ],
   "source": [
    "x = torch.rand(2, 3, 5)\n",
    "x.size()"
   ]
  },
  {
   "cell_type": "code",
   "execution_count": 94,
   "id": "e7fc7cbf-ab4f-4ce2-9c68-8b9498eaa7d2",
   "metadata": {},
   "outputs": [
    {
     "data": {
      "text/plain": [
       "torch.Size([5, 2, 3])"
      ]
     },
     "execution_count": 94,
     "metadata": {},
     "output_type": "execute_result"
    }
   ],
   "source": [
    "torch.permute(x, (2, 0, 1)).size()"
   ]
  },
  {
   "cell_type": "markdown",
   "id": "198a2030-4737-44ce-92c2-d03e7d40f527",
   "metadata": {},
   "source": [
    "### **torch.permute() is particularly useful while working with computer vision models. Some times we have tensors in shape (224, 224, 3) and we want them in shape (3, 224, 224). So, we use torch.permute() to change the dimension using the same space.**"
   ]
  },
  {
   "cell_type": "markdown",
   "id": "dc87966a-c383-489f-b9ca-626f4b204cf5",
   "metadata": {},
   "source": [
    "  "
   ]
  },
  {
   "cell_type": "markdown",
   "id": "b3e0c772-c0da-46bd-9994-728e14bc6853",
   "metadata": {},
   "source": [
    "# **Indexing (selecting data from tensors) in Tensors.**\n",
    "\n",
    "### Note:-  Indexing in tensors is very similar to index in numpy (numpy arrays)."
   ]
  },
  {
   "cell_type": "code",
   "execution_count": 95,
   "id": "64c229c8-0e69-47a4-b3bb-05b80b297ce7",
   "metadata": {},
   "outputs": [
    {
     "data": {
      "text/plain": [
       "tensor([[[0.5560, 0.6185, 0.5521, 0.5809],\n",
       "         [0.4667, 0.1777, 0.1909, 0.6831],\n",
       "         [0.7260, 0.3804, 0.6672, 0.1446]],\n",
       "\n",
       "        [[0.4471, 0.7047, 0.0375, 0.5325],\n",
       "         [0.8549, 0.6461, 0.4236, 0.0731],\n",
       "         [0.4996, 0.7217, 0.9096, 0.9422]]])"
      ]
     },
     "execution_count": 95,
     "metadata": {},
     "output_type": "execute_result"
    }
   ],
   "source": [
    "# creating a random tensor.\n",
    "\n",
    "rt = torch.rand(2, 3, 4)\n",
    "rt"
   ]
  },
  {
   "cell_type": "code",
   "execution_count": 96,
   "id": "b2915010-8dd0-42c2-9f35-899b150deea5",
   "metadata": {},
   "outputs": [
    {
     "data": {
      "text/plain": [
       "tensor([[0.5560, 0.6185, 0.5521, 0.5809],\n",
       "        [0.4667, 0.1777, 0.1909, 0.6831],\n",
       "        [0.7260, 0.3804, 0.6672, 0.1446]])"
      ]
     },
     "execution_count": 96,
     "metadata": {},
     "output_type": "execute_result"
    }
   ],
   "source": [
    "rt[0]"
   ]
  },
  {
   "cell_type": "code",
   "execution_count": 97,
   "id": "707d5350-9276-4f56-9642-f40bc2f3de82",
   "metadata": {},
   "outputs": [
    {
     "data": {
      "text/plain": [
       "tensor([[0.4471, 0.7047, 0.0375, 0.5325],\n",
       "        [0.8549, 0.6461, 0.4236, 0.0731],\n",
       "        [0.4996, 0.7217, 0.9096, 0.9422]])"
      ]
     },
     "execution_count": 97,
     "metadata": {},
     "output_type": "execute_result"
    }
   ],
   "source": [
    "rt[1]"
   ]
  },
  {
   "cell_type": "code",
   "execution_count": 98,
   "id": "08fe3714-418d-4369-9f5b-c2c4a2ce589c",
   "metadata": {},
   "outputs": [
    {
     "data": {
      "text/plain": [
       "tensor([0.5560, 0.6185, 0.5521, 0.5809])"
      ]
     },
     "execution_count": 98,
     "metadata": {},
     "output_type": "execute_result"
    }
   ],
   "source": [
    "rt[0, 0] # This is same as rt[0][0]"
   ]
  },
  {
   "cell_type": "code",
   "execution_count": 99,
   "id": "c7abec73-ab95-45d5-aba4-97998c31fca1",
   "metadata": {},
   "outputs": [
    {
     "data": {
      "text/plain": [
       "tensor([0.4667, 0.1777, 0.1909, 0.6831])"
      ]
     },
     "execution_count": 99,
     "metadata": {},
     "output_type": "execute_result"
    }
   ],
   "source": [
    "rt[0, 1]  # This is same as rt[0][1]"
   ]
  },
  {
   "cell_type": "code",
   "execution_count": 100,
   "id": "b2a5e651-766b-4fed-b549-5750231b07d6",
   "metadata": {},
   "outputs": [
    {
     "data": {
      "text/plain": [
       "tensor([0.7260, 0.3804, 0.6672, 0.1446])"
      ]
     },
     "execution_count": 100,
     "metadata": {},
     "output_type": "execute_result"
    }
   ],
   "source": [
    "rt[0, 2] # This is same as rt[0][2]"
   ]
  },
  {
   "cell_type": "code",
   "execution_count": 101,
   "id": "bbfaf027-d925-4f8a-b0d4-5827926e420c",
   "metadata": {},
   "outputs": [
    {
     "data": {
      "text/plain": [
       "(tensor(0.5560), tensor(0.6185), tensor(0.5521))"
      ]
     },
     "execution_count": 101,
     "metadata": {},
     "output_type": "execute_result"
    }
   ],
   "source": [
    "rt[0, 0, 0], rt[0, 0, 1], rt[0, 0, 2] # This is same as rt[0][1][0]"
   ]
  },
  {
   "cell_type": "markdown",
   "id": "ed0e396b-6c29-4a65-befe-f5c9c3dcf03c",
   "metadata": {},
   "source": [
    "# Extracting values from a tensor with respect to dimensions."
   ]
  },
  {
   "cell_type": "code",
   "execution_count": 102,
   "id": "25b6a38b-a9ab-4612-aba4-ae72d919a780",
   "metadata": {},
   "outputs": [
    {
     "data": {
      "text/plain": [
       "tensor([[0.5560, 0.6185, 0.5521, 0.5809],\n",
       "        [0.4471, 0.7047, 0.0375, 0.5325]])"
      ]
     },
     "execution_count": 102,
     "metadata": {},
     "output_type": "execute_result"
    }
   ],
   "source": [
    "# This is like extracting all from first dimension, from the second dimension we just need the first and then all from third.\n",
    "\n",
    "rt[:, 0, :] "
   ]
  },
  {
   "cell_type": "markdown",
   "id": "60ce55c2-d5f7-4a9f-957f-3845b138b632",
   "metadata": {},
   "source": [
    "### Explanation: The first dimension consist of two tensors, so both are included. Then each of those tensors inlcuded 3 separate tensors, we extract just the first [0], then at last we wanted all elements from the third dimension. If we want just the second element, it would be like rt[:, 0, 1] "
   ]
  },
  {
   "cell_type": "code",
   "execution_count": 103,
   "id": "9fbefb5e-24c3-4c0a-a9ad-23e8f981e1cb",
   "metadata": {},
   "outputs": [
    {
     "data": {
      "text/plain": [
       "tensor([0.6185, 0.7047])"
      ]
     },
     "execution_count": 103,
     "metadata": {},
     "output_type": "execute_result"
    }
   ],
   "source": [
    "rt[:, 0, 1] "
   ]
  },
  {
   "cell_type": "code",
   "execution_count": 104,
   "id": "0a827b7c-0dc7-4156-92d2-331fe16c3cc3",
   "metadata": {},
   "outputs": [
    {
     "data": {
      "text/plain": [
       "tensor([0.1777, 0.6461])"
      ]
     },
     "execution_count": 104,
     "metadata": {},
     "output_type": "execute_result"
    }
   ],
   "source": [
    "rt[:, 1, 1] "
   ]
  },
  {
   "cell_type": "markdown",
   "id": "3048f4ec-a348-4389-87bc-b05206740057",
   "metadata": {},
   "source": [
    "# **Tensors and Numpy**\n",
    "\n",
    "## Numpy is a very popular scientific numerical computing library in Python and pytorch provides the functionality to interact with it.\n",
    "\n",
    "\n",
    "## **When converting a pytorch tensor into a numpy array or vice versa, it is important to note that pytorch have a default dtype of float32, while numpy's default dtype is float64. So, if we convert a tensor in pytorch and convert in numpy, the np_array will have a dtype of float32, while if we create a np_array and convert a np_array to a pytorch tensor, the resulting tensor will have a float64 dtype and we'll need to perform a dtype conversion, like new_tensor.type(torch.float32), if float32 is need.**\n",
    "\n",
    "### use case:- \n",
    "        1) we have data in numpy and we want a pytorch model on it. so, pytorch provides the functionality to accomplish this using torch.from_numpy(np_array)\n",
    "        2) pytorch tensor to numpy, when we want to use some numpy functionality on a tensor in pytorch.\n",
    "\n",
    "### Note:- After creating a tensor using the np_array, if we change the np_array, it will not have an effect on the tensor."
   ]
  },
  {
   "cell_type": "code",
   "execution_count": 105,
   "id": "8efbe0b8-1496-48b8-81a3-5aea81edcc21",
   "metadata": {},
   "outputs": [
    {
     "data": {
      "text/plain": [
       "array([1., 2., 3., 4., 5., 6., 7.])"
      ]
     },
     "execution_count": 105,
     "metadata": {},
     "output_type": "execute_result"
    }
   ],
   "source": [
    "np_array = np.arange(1.0, 8.0)\n",
    "np_array"
   ]
  },
  {
   "cell_type": "code",
   "execution_count": 106,
   "id": "1adcb6de-97cd-4924-a314-f76879d3e409",
   "metadata": {},
   "outputs": [
    {
     "data": {
      "text/plain": [
       "tensor([1., 2., 3., 4., 5., 6., 7.], dtype=torch.float64)"
      ]
     },
     "execution_count": 106,
     "metadata": {},
     "output_type": "execute_result"
    }
   ],
   "source": [
    "py_tensor = torch.from_numpy(np_array)\n",
    "py_tensor"
   ]
  },
  {
   "cell_type": "code",
   "execution_count": 107,
   "id": "24036b6a-dec6-431b-9b9e-f3a295da3745",
   "metadata": {},
   "outputs": [
    {
     "data": {
      "text/plain": [
       "torch.float32"
      ]
     },
     "execution_count": 107,
     "metadata": {},
     "output_type": "execute_result"
    }
   ],
   "source": [
    "rt = torch.rand(2, 3)\n",
    "rt.dtype"
   ]
  },
  {
   "cell_type": "markdown",
   "id": "7b6ca8ca-efaa-49e2-bc50-b6c6cebaa4aa",
   "metadata": {},
   "source": [
    "# Tensor to Numpy."
   ]
  },
  {
   "cell_type": "code",
   "execution_count": 108,
   "id": "9b9c37f9-1dc7-4668-9834-c6172c0962e1",
   "metadata": {},
   "outputs": [
    {
     "data": {
      "text/plain": [
       "array([1., 2., 3., 4., 5., 6., 7.])"
      ]
     },
     "execution_count": 108,
     "metadata": {},
     "output_type": "execute_result"
    }
   ],
   "source": [
    "new_np_array = py_tensor.numpy()\n",
    "new_np_array"
   ]
  },
  {
   "cell_type": "markdown",
   "id": "caecab57-d95b-484d-848b-51612293f1cd",
   "metadata": {},
   "source": [
    "   "
   ]
  },
  {
   "cell_type": "markdown",
   "id": "fbf70541-4c67-4fcf-8925-3932e9eedfc0",
   "metadata": {},
   "source": [
    "# Pytorch Reproducibility\n",
    "\n",
    "### A neural network learns by taking some random numbers, perform some tensor operations, update the random numbers with the aim of improving data represention, in a loop."
   ]
  },
  {
   "cell_type": "code",
   "execution_count": 109,
   "id": "5fdb5137-3e60-44c1-9e38-41bf21115229",
   "metadata": {},
   "outputs": [
    {
     "data": {
      "text/plain": [
       "(tensor([[0.8091, 0.7992, 0.8539, 0.2670],\n",
       "         [0.5682, 0.8411, 0.8620, 0.7038],\n",
       "         [0.5253, 0.3216, 0.3722, 0.8128]]),\n",
       " tensor([[0.1647, 0.5713, 0.0915, 0.0459],\n",
       "         [0.2135, 0.5952, 0.0989, 0.3283],\n",
       "         [0.4126, 0.1473, 0.0484, 0.3885]]),\n",
       " tensor([[False, False, False, False],\n",
       "         [False, False, False, False],\n",
       "         [False, False, False, False]]))"
      ]
     },
     "execution_count": 109,
     "metadata": {},
     "output_type": "execute_result"
    }
   ],
   "source": [
    "rt1 = torch.rand(3, 4)\n",
    "rt2 = torch.rand(3, 4)\n",
    "rt1, rt2, rt1 == rt2"
   ]
  },
  {
   "cell_type": "markdown",
   "id": "b50b0c39-da2f-4e74-863c-446c18b2b40e",
   "metadata": {},
   "source": [
    "### But when we use random numbers, our results will always change, as shown above the same code generated two different tensors. Hence, a concept of setting a random seed  is used to reduce this randomness. "
   ]
  },
  {
   "cell_type": "code",
   "execution_count": 110,
   "id": "cb067084-9bb9-48ea-81a7-cd7ac6a43a83",
   "metadata": {},
   "outputs": [
    {
     "data": {
      "text/plain": [
       "tensor([[0.9531, 0.5607, 0.3535, 0.9455],\n",
       "        [0.4676, 0.7281, 0.2759, 0.4734],\n",
       "        [0.7383, 0.5281, 0.2217, 0.7745]])"
      ]
     },
     "execution_count": 110,
     "metadata": {},
     "output_type": "execute_result"
    }
   ],
   "source": [
    "torch.manual_seed(56)\n",
    "\n",
    "a = torch.rand(3, 4)\n",
    "a"
   ]
  },
  {
   "cell_type": "markdown",
   "id": "bb0eb71a-f6d8-4440-a1c0-41f82e913223",
   "metadata": {},
   "source": [
    "## Note:- In notebooks, this seed works only in the same cell. So, if want reproducible results in the other cell as well, we'll need to set the seed again."
   ]
  },
  {
   "cell_type": "code",
   "execution_count": 111,
   "id": "80bf394e-0a56-4d26-a382-79c4ac7450cb",
   "metadata": {},
   "outputs": [
    {
     "data": {
      "text/plain": [
       "tensor([[0.4495, 0.2725, 0.4045, 0.6257],\n",
       "        [0.5892, 0.5144, 0.2646, 0.3256],\n",
       "        [0.4902, 0.2976, 0.0643, 0.2121]])"
      ]
     },
     "execution_count": 111,
     "metadata": {},
     "output_type": "execute_result"
    }
   ],
   "source": [
    "b = torch.rand(3, 4)\n",
    "b"
   ]
  },
  {
   "cell_type": "code",
   "execution_count": 112,
   "id": "db375bc6-1cd0-49f2-a7a4-b9b33f6969ba",
   "metadata": {},
   "outputs": [
    {
     "data": {
      "text/plain": [
       "tensor([[0.9531, 0.5607, 0.3535, 0.9455],\n",
       "        [0.4676, 0.7281, 0.2759, 0.4734],\n",
       "        [0.7383, 0.5281, 0.2217, 0.7745]])"
      ]
     },
     "execution_count": 112,
     "metadata": {},
     "output_type": "execute_result"
    }
   ],
   "source": [
    "torch.manual_seed(56)\n",
    "\n",
    "c = torch.rand(3, 4)\n",
    "c"
   ]
  },
  {
   "cell_type": "code",
   "execution_count": 113,
   "id": "1c0104e2-de58-4487-beb1-c33d7b6e4aa5",
   "metadata": {},
   "outputs": [
    {
     "data": {
      "text/plain": [
       "tensor([[True, True, True, True],\n",
       "        [True, True, True, True],\n",
       "        [True, True, True, True]])"
      ]
     },
     "execution_count": 113,
     "metadata": {},
     "output_type": "execute_result"
    }
   ],
   "source": [
    "a == c"
   ]
  },
  {
   "cell_type": "markdown",
   "id": "9851fbf4-b20c-4140-abd8-95b81f14d58e",
   "metadata": {},
   "source": [
    "## Different ways of accessing a GPU in Pytorch\n",
    "\n",
    "1) Easiest way to use a GPU for Pytorch is Google Colab.\n",
    "2) Use GPU on your own device.\n",
    "3) Use cloud computing like AWS, Google Cloud, Azure.\n",
    "\n",
    "# **Workflow:-** When need to work on small problesm, trying to learn new stuff, use google colab. Set up a desktop with a powerful GPU for large models.If still more power is needed, go for cloud.\n",
    "\n",
    "### For 2, 3 PyTorch + GPU drivers (CUDA) takes a little bit of setting up, to do this, refer to PyTorch setup documentation: https://pytorch.org/get-started/locally/"
   ]
  },
  {
   "cell_type": "markdown",
   "id": "7ac2fe9e-a1df-4f93-88c5-a013498092b7",
   "metadata": {},
   "source": [
    "   # "
   ]
  },
  {
   "cell_type": "markdown",
   "id": "91601c60-51e5-4633-839b-1fa591b34b8c",
   "metadata": {},
   "source": [
    "## For PyTorch since it's capable of running compute on the GPU or CPU, it's best practice to setup device agnostic code: https://pytorch.org/docs/stable/notes/cuda.html#best-practices\n",
    "\n",
    "E.g. run on GPU if available, else default to CPU"
   ]
  },
  {
   "cell_type": "code",
   "execution_count": 114,
   "id": "e46c47b1-f99b-4dec-b8d9-41f9064e2e47",
   "metadata": {},
   "outputs": [
    {
     "data": {
      "text/plain": [
       "False"
      ]
     },
     "execution_count": 114,
     "metadata": {},
     "output_type": "execute_result"
    }
   ],
   "source": [
    "torch.cuda.is_available() # to check whether we access to a gpu from cuda.\n",
    "\n",
    "\n",
    "# Setup device agnostic code \n",
    "#device = \"cuda\" if torch.cuda.is_available() else \"cpu\"\n",
    "#device"
   ]
  },
  {
   "cell_type": "code",
   "execution_count": 115,
   "id": "52b76715-9c3a-42cc-8ff8-d55d44605d0c",
   "metadata": {},
   "outputs": [
    {
     "data": {
      "text/plain": [
       "True"
      ]
     },
     "execution_count": 115,
     "metadata": {},
     "output_type": "execute_result"
    }
   ],
   "source": [
    "torch.backends.mps.is_available() # This is to check the availability of GPU from macos. "
   ]
  },
  {
   "cell_type": "code",
   "execution_count": 116,
   "id": "fd79dea8-7751-4dc9-9ea6-fc4d7c7a5cfa",
   "metadata": {},
   "outputs": [
    {
     "data": {
      "text/plain": [
       "'mps'"
      ]
     },
     "execution_count": 116,
     "metadata": {},
     "output_type": "execute_result"
    }
   ],
   "source": [
    "# Setup device agnostic code \n",
    "device = \"mps\" if torch.backends.mps.is_available() else \"cpu\"\n",
    "device"
   ]
  },
  {
   "cell_type": "markdown",
   "id": "94ad13ad-a9f7-43f5-b934-87a318f915a1",
   "metadata": {},
   "source": [
    "# Putting tensors and models on the GPU\n",
    "\n",
    "### GPU's are excellent in mathematical operations and they are super fast in comparsion to normal \"CPU's\"."
   ]
  },
  {
   "cell_type": "code",
   "execution_count": 125,
   "id": "99bcf2aa-d93e-45fa-a6b6-61e16368733e",
   "metadata": {},
   "outputs": [
    {
     "data": {
      "text/plain": [
       "(device(type='cpu'), device(type='cpu'), device(type='mps', index=0))"
      ]
     },
     "execution_count": 125,
     "metadata": {},
     "output_type": "execute_result"
    }
   ],
   "source": [
    "# creating a tensor on GPU\n",
    "\n",
    "rt = torch.rand((3, 4)) # default is \"cpu\"\n",
    "rt1 = torch.rand((3, 4), device = \"cpu\")\n",
    "rt2 = torch.rand((3, 4), device = device)\n",
    "\n",
    "rt.device, rt1.device, rt2.device"
   ]
  },
  {
   "cell_type": "code",
   "execution_count": 126,
   "id": "1ef7341b-808a-44f1-8471-d17ac8745349",
   "metadata": {},
   "outputs": [
    {
     "data": {
      "text/plain": [
       "(tensor([[0.6986, 0.5876, 0.8823, 0.2864],\n",
       "         [0.2838, 0.2895, 0.6519, 0.6205],\n",
       "         [0.9486, 0.7495, 0.0706, 0.3694]], device='mps:0'),\n",
       " device(type='mps', index=0))"
      ]
     },
     "execution_count": 126,
     "metadata": {},
     "output_type": "execute_result"
    }
   ],
   "source": [
    "# moving tensor from \"cpu\" to \"gpu\"\n",
    "\n",
    "rt3 = rt.to(device)\n",
    "rt3, rt3.device"
   ]
  },
  {
   "cell_type": "markdown",
   "id": "fa30f09b-00e1-4a1a-a2ab-684ca9ff09ab",
   "metadata": {},
   "source": [
    "## Numpy operations only work with \"cpu\". So, for numpy operations we might want to move our tensor from GPU to CPU."
   ]
  },
  {
   "cell_type": "markdown",
   "id": "4f8d0bb7-2dab-4de7-831e-1550e087c5ce",
   "metadata": {},
   "source": [
    "### **rt3.numpy(), this throws an error highlighting that tensors on gpu can't work with numpy.**"
   ]
  },
  {
   "cell_type": "code",
   "execution_count": 127,
   "id": "25fb3546-9f91-4217-8e06-a5e9b1d3b7d7",
   "metadata": {},
   "outputs": [
    {
     "data": {
      "text/plain": [
       "(tensor([[0.6986, 0.5876, 0.8823, 0.2864],\n",
       "         [0.2838, 0.2895, 0.6519, 0.6205],\n",
       "         [0.9486, 0.7495, 0.0706, 0.3694]]),\n",
       " device(type='cpu'))"
      ]
     },
     "execution_count": 127,
     "metadata": {},
     "output_type": "execute_result"
    }
   ],
   "source": [
    "rt4 = rt3.cpu()\n",
    "\n",
    "rt4, rt4.device"
   ]
  },
  {
   "cell_type": "code",
   "execution_count": null,
   "id": "e92f4773-e689-46db-b0a7-10a441245e6b",
   "metadata": {},
   "outputs": [],
   "source": []
  },
  {
   "cell_type": "code",
   "execution_count": null,
   "id": "4afae691-9a36-441b-aeb3-db86fa1b6463",
   "metadata": {},
   "outputs": [],
   "source": []
  },
  {
   "cell_type": "code",
   "execution_count": null,
   "id": "42c20571-7d49-453a-8130-0afc3dd0ea64",
   "metadata": {},
   "outputs": [],
   "source": []
  },
  {
   "cell_type": "code",
   "execution_count": null,
   "id": "563d5bd8-253e-4169-84f9-7fe035c584bc",
   "metadata": {},
   "outputs": [],
   "source": []
  },
  {
   "cell_type": "code",
   "execution_count": null,
   "id": "0f93375e-7721-4609-8d87-4738e0b6e798",
   "metadata": {},
   "outputs": [],
   "source": []
  },
  {
   "cell_type": "code",
   "execution_count": null,
   "id": "5df8607f-205f-4569-93fb-bd8de1f66c86",
   "metadata": {},
   "outputs": [],
   "source": []
  },
  {
   "cell_type": "code",
   "execution_count": null,
   "id": "3962113f-be81-4f0f-8cc6-706b004420b6",
   "metadata": {},
   "outputs": [],
   "source": []
  },
  {
   "cell_type": "code",
   "execution_count": null,
   "id": "910f1e8d-ea53-4731-96d7-d9a7990eebef",
   "metadata": {},
   "outputs": [],
   "source": []
  },
  {
   "cell_type": "code",
   "execution_count": null,
   "id": "8e8c9e1b-551e-4ad1-8676-f0887b8be614",
   "metadata": {},
   "outputs": [],
   "source": []
  },
  {
   "cell_type": "code",
   "execution_count": null,
   "id": "a3722d73-f678-43b6-83e9-c9631f8f5708",
   "metadata": {},
   "outputs": [],
   "source": []
  },
  {
   "cell_type": "code",
   "execution_count": null,
   "id": "51cc1122-ad72-471d-9e0c-c548248b23da",
   "metadata": {},
   "outputs": [],
   "source": []
  },
  {
   "cell_type": "code",
   "execution_count": null,
   "id": "06b2dc18-3e93-4fba-9d22-9218984b5a61",
   "metadata": {},
   "outputs": [],
   "source": []
  },
  {
   "cell_type": "code",
   "execution_count": null,
   "id": "e804c6c1-5320-42d9-b051-2aa2ef67993b",
   "metadata": {},
   "outputs": [],
   "source": []
  },
  {
   "cell_type": "code",
   "execution_count": null,
   "id": "db994349-4103-4aa0-aa20-7e187d5920f0",
   "metadata": {},
   "outputs": [],
   "source": []
  },
  {
   "cell_type": "code",
   "execution_count": null,
   "id": "ba2b0089-036b-417f-bec4-50e22e0b9512",
   "metadata": {},
   "outputs": [],
   "source": []
  },
  {
   "cell_type": "code",
   "execution_count": null,
   "id": "c2f0d542-68da-4f81-acbd-7c934c04c0ea",
   "metadata": {},
   "outputs": [],
   "source": []
  },
  {
   "cell_type": "code",
   "execution_count": null,
   "id": "23355140-0760-41de-b74f-c1dda9b175e0",
   "metadata": {},
   "outputs": [],
   "source": []
  },
  {
   "cell_type": "code",
   "execution_count": null,
   "id": "ceb9e8eb-7e70-408a-b8a1-1d73555c3e48",
   "metadata": {},
   "outputs": [],
   "source": []
  },
  {
   "cell_type": "code",
   "execution_count": null,
   "id": "01ab58b8-2486-4050-a02b-e20ce9b36bd5",
   "metadata": {},
   "outputs": [],
   "source": []
  },
  {
   "cell_type": "code",
   "execution_count": null,
   "id": "b6b2b1be-1d49-4d21-94fd-58a771d0459b",
   "metadata": {},
   "outputs": [],
   "source": []
  },
  {
   "cell_type": "code",
   "execution_count": null,
   "id": "1234e555-c1e3-4c7f-9dce-9516fb5b42c3",
   "metadata": {},
   "outputs": [],
   "source": []
  },
  {
   "cell_type": "code",
   "execution_count": null,
   "id": "208bff76-de02-44c9-b3de-88695de5be23",
   "metadata": {},
   "outputs": [],
   "source": []
  },
  {
   "cell_type": "code",
   "execution_count": null,
   "id": "6506eb8e-bd85-413b-a72c-6520663e308d",
   "metadata": {},
   "outputs": [],
   "source": []
  },
  {
   "cell_type": "code",
   "execution_count": null,
   "id": "09054279-eb5d-41d4-aa17-3adf5a0ec7e2",
   "metadata": {},
   "outputs": [],
   "source": []
  },
  {
   "cell_type": "code",
   "execution_count": null,
   "id": "f914986b-c506-4250-af52-9b72fec03ce9",
   "metadata": {},
   "outputs": [],
   "source": []
  },
  {
   "cell_type": "code",
   "execution_count": null,
   "id": "ea004531-d6b7-4e53-af82-d97623f0d48e",
   "metadata": {},
   "outputs": [],
   "source": []
  },
  {
   "cell_type": "code",
   "execution_count": null,
   "id": "72961a00-f85f-4b5b-88ad-1355e226d08b",
   "metadata": {},
   "outputs": [],
   "source": []
  },
  {
   "cell_type": "code",
   "execution_count": null,
   "id": "3032e710-9a82-4f79-9458-2bc519cd8ef5",
   "metadata": {},
   "outputs": [],
   "source": []
  },
  {
   "cell_type": "code",
   "execution_count": null,
   "id": "9a20b960-5d4d-4391-97bb-84964adb0ada",
   "metadata": {},
   "outputs": [],
   "source": []
  },
  {
   "cell_type": "code",
   "execution_count": null,
   "id": "c9acf551-0c25-491f-93e8-180a93a71029",
   "metadata": {},
   "outputs": [],
   "source": []
  },
  {
   "cell_type": "code",
   "execution_count": null,
   "id": "d9ba76f7-f1ed-48ff-9134-0b63199882c3",
   "metadata": {},
   "outputs": [],
   "source": []
  },
  {
   "cell_type": "code",
   "execution_count": null,
   "id": "bc20280a-24de-421a-b495-d14b9e7f2408",
   "metadata": {},
   "outputs": [],
   "source": []
  },
  {
   "cell_type": "code",
   "execution_count": null,
   "id": "34408df7-c9c3-4698-9cd0-244ffa481855",
   "metadata": {},
   "outputs": [],
   "source": []
  },
  {
   "cell_type": "code",
   "execution_count": null,
   "id": "c33c23f1-efbc-4565-91a2-498ff2ec1fa1",
   "metadata": {},
   "outputs": [],
   "source": []
  },
  {
   "cell_type": "code",
   "execution_count": null,
   "id": "f637fcee-8dbb-463e-b278-56fd2b2de14a",
   "metadata": {},
   "outputs": [],
   "source": []
  },
  {
   "cell_type": "code",
   "execution_count": null,
   "id": "98c3f5fb-f506-43bd-bf29-502bf8f8df45",
   "metadata": {},
   "outputs": [],
   "source": []
  },
  {
   "cell_type": "code",
   "execution_count": null,
   "id": "f628e9ef-6a14-483b-9639-06b038012d0a",
   "metadata": {},
   "outputs": [],
   "source": []
  },
  {
   "cell_type": "code",
   "execution_count": null,
   "id": "d36bd4d2-ee4f-435a-96ce-c444d6f013ea",
   "metadata": {},
   "outputs": [],
   "source": []
  },
  {
   "cell_type": "code",
   "execution_count": null,
   "id": "899c3dc7-11c6-4b64-bdbe-dab15ed79a9f",
   "metadata": {},
   "outputs": [],
   "source": []
  },
  {
   "cell_type": "code",
   "execution_count": null,
   "id": "dc41a667-8d6a-4523-a61a-b4039f0344f2",
   "metadata": {},
   "outputs": [],
   "source": []
  },
  {
   "cell_type": "code",
   "execution_count": null,
   "id": "11937f8d-de8e-49be-99bf-9f6c71426996",
   "metadata": {},
   "outputs": [],
   "source": []
  },
  {
   "cell_type": "code",
   "execution_count": null,
   "id": "9012a572-bdc4-4026-9938-61f0c12242f3",
   "metadata": {},
   "outputs": [],
   "source": []
  },
  {
   "cell_type": "code",
   "execution_count": null,
   "id": "1d036231-55d1-4a7e-86c3-0cbb6b9dc894",
   "metadata": {},
   "outputs": [],
   "source": []
  },
  {
   "cell_type": "code",
   "execution_count": null,
   "id": "14508d69-16f9-4943-be1e-45483fce5f7d",
   "metadata": {},
   "outputs": [],
   "source": []
  },
  {
   "cell_type": "code",
   "execution_count": null,
   "id": "c7a70543-0377-4d76-aaa1-5f589c44c3ef",
   "metadata": {},
   "outputs": [],
   "source": []
  },
  {
   "cell_type": "code",
   "execution_count": null,
   "id": "8519f0bd-54c4-46f1-ba32-c08b752fb5ce",
   "metadata": {},
   "outputs": [],
   "source": []
  },
  {
   "cell_type": "code",
   "execution_count": null,
   "id": "7bc84622-95db-4b2c-85c5-ebea3fc1a89f",
   "metadata": {},
   "outputs": [],
   "source": []
  },
  {
   "cell_type": "code",
   "execution_count": null,
   "id": "d5e84d1f-4a82-46e1-9217-09ec6190a05e",
   "metadata": {},
   "outputs": [],
   "source": []
  },
  {
   "cell_type": "code",
   "execution_count": null,
   "id": "ca758196-3fc3-4121-91e1-e53c555deb6b",
   "metadata": {},
   "outputs": [],
   "source": []
  },
  {
   "cell_type": "code",
   "execution_count": null,
   "id": "08613673-9f1c-4c4e-9f31-86c5a2941fa3",
   "metadata": {},
   "outputs": [],
   "source": []
  },
  {
   "cell_type": "code",
   "execution_count": null,
   "id": "40808171-9cbc-4835-806d-341e33f9ea29",
   "metadata": {},
   "outputs": [],
   "source": []
  },
  {
   "cell_type": "code",
   "execution_count": null,
   "id": "e6579986-0e9a-474c-bba2-31acbd56ed58",
   "metadata": {},
   "outputs": [],
   "source": []
  },
  {
   "cell_type": "code",
   "execution_count": null,
   "id": "885e39b0-77dc-4eaf-8588-8d5f7070563e",
   "metadata": {},
   "outputs": [],
   "source": []
  },
  {
   "cell_type": "code",
   "execution_count": null,
   "id": "505f6140-5413-4d9b-ae84-0caaaef9a342",
   "metadata": {},
   "outputs": [],
   "source": []
  },
  {
   "cell_type": "code",
   "execution_count": null,
   "id": "d35da933-03e8-4f5b-b8d4-be43895f69c4",
   "metadata": {},
   "outputs": [],
   "source": []
  },
  {
   "cell_type": "code",
   "execution_count": null,
   "id": "229c8ea1-2fa6-42b5-a31e-4f7fac8a166c",
   "metadata": {},
   "outputs": [],
   "source": []
  },
  {
   "cell_type": "code",
   "execution_count": null,
   "id": "b75ffc86-9df3-43b7-bfa7-9df1eba3c5c2",
   "metadata": {},
   "outputs": [],
   "source": []
  },
  {
   "cell_type": "code",
   "execution_count": null,
   "id": "b92752ad-1ded-45f2-806d-fa11d213d5e6",
   "metadata": {},
   "outputs": [],
   "source": []
  },
  {
   "cell_type": "code",
   "execution_count": null,
   "id": "e755be0e-3d3f-4eda-84c6-ce9ee908f8d7",
   "metadata": {},
   "outputs": [],
   "source": []
  },
  {
   "cell_type": "code",
   "execution_count": null,
   "id": "5b092c39-f594-4fb3-857b-a59b5d77959a",
   "metadata": {},
   "outputs": [],
   "source": []
  },
  {
   "cell_type": "code",
   "execution_count": null,
   "id": "d5a8d97e-a2e1-4bfe-87f8-51612d2e1b52",
   "metadata": {},
   "outputs": [],
   "source": []
  },
  {
   "cell_type": "code",
   "execution_count": null,
   "id": "a68ff277-1253-44dc-9afb-6103557cfa46",
   "metadata": {},
   "outputs": [],
   "source": []
  },
  {
   "cell_type": "code",
   "execution_count": null,
   "id": "25e28a1b-06ca-4ba5-bcd5-008056e8cab7",
   "metadata": {},
   "outputs": [],
   "source": []
  },
  {
   "cell_type": "code",
   "execution_count": null,
   "id": "3d8cab7f-2707-4142-b2b6-26ebf182864e",
   "metadata": {},
   "outputs": [],
   "source": []
  },
  {
   "cell_type": "code",
   "execution_count": null,
   "id": "f1d9e80e-b376-41eb-a6f3-c9e6704530d6",
   "metadata": {},
   "outputs": [],
   "source": []
  },
  {
   "cell_type": "code",
   "execution_count": null,
   "id": "29eac151-137d-4953-8c0e-25a8a0cb12b1",
   "metadata": {},
   "outputs": [],
   "source": []
  },
  {
   "cell_type": "code",
   "execution_count": null,
   "id": "4b1c969a-e830-4b65-ae17-8ab0104400ba",
   "metadata": {},
   "outputs": [],
   "source": []
  },
  {
   "cell_type": "code",
   "execution_count": null,
   "id": "3d0c5405-3096-4dec-8140-d314f1296a09",
   "metadata": {},
   "outputs": [],
   "source": []
  },
  {
   "cell_type": "code",
   "execution_count": null,
   "id": "47835280-0806-4aaa-b0c3-43e8a32e4155",
   "metadata": {},
   "outputs": [],
   "source": []
  },
  {
   "cell_type": "code",
   "execution_count": null,
   "id": "594cce6d-e146-4950-9f3a-d61c9f6f4797",
   "metadata": {},
   "outputs": [],
   "source": []
  },
  {
   "cell_type": "code",
   "execution_count": null,
   "id": "df6a09f7-d5dd-41d6-bd42-3d5fbd3aacb8",
   "metadata": {},
   "outputs": [],
   "source": []
  },
  {
   "cell_type": "code",
   "execution_count": null,
   "id": "3fc7bedd-3d78-44b7-b4b8-e12150456863",
   "metadata": {},
   "outputs": [],
   "source": []
  },
  {
   "cell_type": "code",
   "execution_count": null,
   "id": "02c7d3ff-b62c-4b75-850e-cceecd9a4169",
   "metadata": {},
   "outputs": [],
   "source": []
  },
  {
   "cell_type": "code",
   "execution_count": null,
   "id": "e28b503c-7b84-4b42-b8bc-573e7d0a9a5c",
   "metadata": {},
   "outputs": [],
   "source": []
  },
  {
   "cell_type": "code",
   "execution_count": null,
   "id": "acb5964d-1f93-4ffa-b845-1d22c1f1327a",
   "metadata": {},
   "outputs": [],
   "source": []
  },
  {
   "cell_type": "code",
   "execution_count": null,
   "id": "d3c8e8ad-6ae1-45c9-a82f-c810fcf0f226",
   "metadata": {},
   "outputs": [],
   "source": []
  },
  {
   "cell_type": "code",
   "execution_count": null,
   "id": "0374d6f5-85e7-4dd9-be5b-1cf25c3f2e48",
   "metadata": {},
   "outputs": [],
   "source": []
  },
  {
   "cell_type": "code",
   "execution_count": null,
   "id": "c32b1c99-5aaf-4b62-902f-272f3d45ebc3",
   "metadata": {},
   "outputs": [],
   "source": []
  },
  {
   "cell_type": "code",
   "execution_count": null,
   "id": "2002328d-8552-4c5d-bdab-0f21ede801c9",
   "metadata": {},
   "outputs": [],
   "source": []
  },
  {
   "cell_type": "code",
   "execution_count": null,
   "id": "7e136095-064d-4ac4-88a8-e8b7f0c3cd58",
   "metadata": {},
   "outputs": [],
   "source": []
  },
  {
   "cell_type": "code",
   "execution_count": null,
   "id": "680615cd-7b2e-4cfb-bf9a-a6843ab01dad",
   "metadata": {},
   "outputs": [],
   "source": []
  },
  {
   "cell_type": "code",
   "execution_count": null,
   "id": "6cc44aff-50fc-42ba-bb42-cecb3c5c55ff",
   "metadata": {},
   "outputs": [],
   "source": []
  },
  {
   "cell_type": "code",
   "execution_count": null,
   "id": "7ea3ef5a-b6bf-48ca-b492-5f65cce1ee3d",
   "metadata": {},
   "outputs": [],
   "source": []
  },
  {
   "cell_type": "code",
   "execution_count": null,
   "id": "7da8e3cf-c0b3-46e9-ab0a-842ed42521eb",
   "metadata": {},
   "outputs": [],
   "source": []
  },
  {
   "cell_type": "code",
   "execution_count": null,
   "id": "8671fbb9-35cc-4319-83a4-4d12a7a55990",
   "metadata": {},
   "outputs": [],
   "source": []
  },
  {
   "cell_type": "code",
   "execution_count": null,
   "id": "b5aed718-cdc6-4cc1-aad0-4fe92c517f13",
   "metadata": {},
   "outputs": [],
   "source": []
  },
  {
   "cell_type": "code",
   "execution_count": null,
   "id": "b7713102-3790-443f-8498-139f02bd9849",
   "metadata": {},
   "outputs": [],
   "source": []
  },
  {
   "cell_type": "code",
   "execution_count": null,
   "id": "1f15007b-32c7-420c-ba17-62c05ab91eee",
   "metadata": {},
   "outputs": [],
   "source": []
  },
  {
   "cell_type": "code",
   "execution_count": null,
   "id": "0b5513bc-9560-4369-88a4-64c1a16be8f9",
   "metadata": {},
   "outputs": [],
   "source": []
  },
  {
   "cell_type": "code",
   "execution_count": null,
   "id": "f2d24372-2316-4688-9688-f823b88eff3f",
   "metadata": {},
   "outputs": [],
   "source": []
  },
  {
   "cell_type": "code",
   "execution_count": null,
   "id": "fc92eb2c-dc0a-41d8-beec-73314c72885f",
   "metadata": {},
   "outputs": [],
   "source": []
  },
  {
   "cell_type": "code",
   "execution_count": null,
   "id": "d14e3f72-c99f-41cd-8343-cf09b5c58213",
   "metadata": {},
   "outputs": [],
   "source": []
  },
  {
   "cell_type": "code",
   "execution_count": null,
   "id": "f1ae9688-deb2-4ebb-9cbf-5e446e007b59",
   "metadata": {},
   "outputs": [],
   "source": []
  },
  {
   "cell_type": "code",
   "execution_count": null,
   "id": "eec37f66-4a84-4435-babb-d86ef1193420",
   "metadata": {},
   "outputs": [],
   "source": []
  },
  {
   "cell_type": "code",
   "execution_count": null,
   "id": "eecedf3e-b846-4d69-b666-9e237b4f4bee",
   "metadata": {},
   "outputs": [],
   "source": []
  },
  {
   "cell_type": "code",
   "execution_count": null,
   "id": "96fafd19-3338-479a-aeb5-2e44262c753a",
   "metadata": {},
   "outputs": [],
   "source": []
  },
  {
   "cell_type": "code",
   "execution_count": null,
   "id": "98c40a51-687b-48d1-9cfb-7e830380b17a",
   "metadata": {},
   "outputs": [],
   "source": []
  },
  {
   "cell_type": "code",
   "execution_count": null,
   "id": "3e4915ce-54d9-4fac-8025-1cb25a1830bb",
   "metadata": {},
   "outputs": [],
   "source": []
  },
  {
   "cell_type": "code",
   "execution_count": null,
   "id": "f96c82f7-5523-4fe5-a754-d48069d6f822",
   "metadata": {},
   "outputs": [],
   "source": []
  },
  {
   "cell_type": "code",
   "execution_count": null,
   "id": "44467579-9b37-42ac-b036-84941a5c5983",
   "metadata": {},
   "outputs": [],
   "source": []
  },
  {
   "cell_type": "code",
   "execution_count": null,
   "id": "1b22a2c5-bbb4-4c47-b61a-7ee633dbbc92",
   "metadata": {},
   "outputs": [],
   "source": []
  },
  {
   "cell_type": "code",
   "execution_count": null,
   "id": "9f30b7ec-acfc-40b4-be80-5d7b7ec188f1",
   "metadata": {},
   "outputs": [],
   "source": []
  },
  {
   "cell_type": "code",
   "execution_count": null,
   "id": "8f631f37-d499-4f08-a5d3-3e993d0b7d7d",
   "metadata": {},
   "outputs": [],
   "source": []
  },
  {
   "cell_type": "code",
   "execution_count": null,
   "id": "8285353c-5399-416e-8d77-5086634274e7",
   "metadata": {},
   "outputs": [],
   "source": []
  },
  {
   "cell_type": "code",
   "execution_count": null,
   "id": "19976460-ba5b-4801-a57e-a8f4e7df0592",
   "metadata": {},
   "outputs": [],
   "source": []
  },
  {
   "cell_type": "code",
   "execution_count": null,
   "id": "c8bcad89-bcbd-4e18-8a20-10c36322d7d0",
   "metadata": {},
   "outputs": [],
   "source": []
  },
  {
   "cell_type": "code",
   "execution_count": null,
   "id": "7f7e8d4f-57ea-43bb-83b4-e3669b9f1b2a",
   "metadata": {},
   "outputs": [],
   "source": []
  },
  {
   "cell_type": "code",
   "execution_count": null,
   "id": "89a2d6f6-33d1-4963-a5e7-1e4e69545915",
   "metadata": {},
   "outputs": [],
   "source": []
  },
  {
   "cell_type": "code",
   "execution_count": null,
   "id": "f695aa2c-1582-49a1-ac14-81b1badf6edd",
   "metadata": {},
   "outputs": [],
   "source": []
  },
  {
   "cell_type": "code",
   "execution_count": null,
   "id": "a144474e-4c25-4a7c-8eec-c8df3993d31a",
   "metadata": {},
   "outputs": [],
   "source": []
  },
  {
   "cell_type": "code",
   "execution_count": null,
   "id": "37e57f77-dad5-4086-8573-274cd222c800",
   "metadata": {},
   "outputs": [],
   "source": []
  },
  {
   "cell_type": "code",
   "execution_count": null,
   "id": "4fc86b72-b151-4fa9-9746-36ce70d79e2b",
   "metadata": {},
   "outputs": [],
   "source": []
  },
  {
   "cell_type": "code",
   "execution_count": null,
   "id": "5ce88f4b-8598-4359-97dd-bc4580f9a5c7",
   "metadata": {},
   "outputs": [],
   "source": []
  },
  {
   "cell_type": "code",
   "execution_count": null,
   "id": "20eb5c7a-6582-490f-b2e8-e495d090c609",
   "metadata": {},
   "outputs": [],
   "source": []
  },
  {
   "cell_type": "code",
   "execution_count": null,
   "id": "b661e69d-aa49-45a9-bae2-31404423de47",
   "metadata": {},
   "outputs": [],
   "source": []
  },
  {
   "cell_type": "code",
   "execution_count": null,
   "id": "8a4c8c60-0c5a-430d-9f70-60c41ad511d1",
   "metadata": {},
   "outputs": [],
   "source": []
  },
  {
   "cell_type": "code",
   "execution_count": null,
   "id": "6488e17b-377e-4029-9790-f18e9237a538",
   "metadata": {},
   "outputs": [],
   "source": []
  }
 ],
 "metadata": {
  "kernelspec": {
   "display_name": "Python 3 (ipykernel)",
   "language": "python",
   "name": "python3"
  },
  "language_info": {
   "codemirror_mode": {
    "name": "ipython",
    "version": 3
   },
   "file_extension": ".py",
   "mimetype": "text/x-python",
   "name": "python",
   "nbconvert_exporter": "python",
   "pygments_lexer": "ipython3",
   "version": "3.9.6"
  }
 },
 "nbformat": 4,
 "nbformat_minor": 5
}
